{
  "nbformat": 4,
  "nbformat_minor": 0,
  "metadata": {
    "colab": {
      "name": "Exploratory Data Analysis v2.ipynb",
      "version": "0.3.2",
      "provenance": [],
      "collapsed_sections": [],
      "include_colab_link": true
    },
    "kernelspec": {
      "name": "python3",
      "display_name": "Python 3"
    }
  },
  "cells": [
    {
      "cell_type": "markdown",
      "metadata": {
        "id": "view-in-github",
        "colab_type": "text"
      },
      "source": [
        "<a href=\"https://colab.research.google.com/github/jeffersonjpa/DataScienceStudies/blob/master/Exploratory_Data_Analysis_v2.ipynb\" target=\"_parent\"><img src=\"https://colab.research.google.com/assets/colab-badge.svg\" alt=\"Open In Colab\"/></a>"
      ]
    },
    {
      "cell_type": "markdown",
      "metadata": {
        "id": "sMOe-8ZiCtnV",
        "colab_type": "text"
      },
      "source": [
        "\n",
        "\n",
        "# Estudos sobre Exploratory Data Analysis\n",
        "\n"
      ]
    },
    {
      "cell_type": "code",
      "metadata": {
        "id": "34TEBtL4BYqM",
        "colab_type": "code",
        "colab": {}
      },
      "source": [
        "import numpy as np\n",
        "import pandas as pd\n",
        "import os"
      ],
      "execution_count": 0,
      "outputs": []
    },
    {
      "cell_type": "code",
      "metadata": {
        "id": "XyBFWJp4B-8w",
        "colab_type": "code",
        "outputId": "4cfad493-933f-46d4-fff7-60a9c3025184",
        "colab": {
          "base_uri": "https://localhost:8080/",
          "height": 335
        }
      },
      "source": [
        "DATA_DIR = 'sample_data/'\n",
        "FILE_NAME = 'credit_card_default.csv'\n",
        "data_path = os.path.join(DATA_DIR, FILE_NAME)\n",
        "ccd = pd.read_csv(data_path, index_col=\"ID\") #Usando o id do cliente como identificador\n",
        "ccd.head()"
      ],
      "execution_count": 0,
      "outputs": [
        {
          "output_type": "execute_result",
          "data": {
            "text/html": [
              "<div>\n",
              "<style scoped>\n",
              "    .dataframe tbody tr th:only-of-type {\n",
              "        vertical-align: middle;\n",
              "    }\n",
              "\n",
              "    .dataframe tbody tr th {\n",
              "        vertical-align: top;\n",
              "    }\n",
              "\n",
              "    .dataframe thead th {\n",
              "        text-align: right;\n",
              "    }\n",
              "</style>\n",
              "<table border=\"1\" class=\"dataframe\">\n",
              "  <thead>\n",
              "    <tr style=\"text-align: right;\">\n",
              "      <th></th>\n",
              "      <th>LIMIT_BAL</th>\n",
              "      <th>SEX</th>\n",
              "      <th>EDUCATION</th>\n",
              "      <th>MARRIAGE</th>\n",
              "      <th>AGE</th>\n",
              "      <th>PAY_1</th>\n",
              "      <th>PAY_2</th>\n",
              "      <th>PAY_3</th>\n",
              "      <th>PAY_4</th>\n",
              "      <th>PAY_5</th>\n",
              "      <th>...</th>\n",
              "      <th>BILL_AMT4</th>\n",
              "      <th>BILL_AMT5</th>\n",
              "      <th>BILL_AMT6</th>\n",
              "      <th>PAY_AMT1</th>\n",
              "      <th>PAY_AMT2</th>\n",
              "      <th>PAY_AMT3</th>\n",
              "      <th>PAY_AMT4</th>\n",
              "      <th>PAY_AMT5</th>\n",
              "      <th>PAY_AMT6</th>\n",
              "      <th>default payment next month</th>\n",
              "    </tr>\n",
              "    <tr>\n",
              "      <th>ID</th>\n",
              "      <th></th>\n",
              "      <th></th>\n",
              "      <th></th>\n",
              "      <th></th>\n",
              "      <th></th>\n",
              "      <th></th>\n",
              "      <th></th>\n",
              "      <th></th>\n",
              "      <th></th>\n",
              "      <th></th>\n",
              "      <th></th>\n",
              "      <th></th>\n",
              "      <th></th>\n",
              "      <th></th>\n",
              "      <th></th>\n",
              "      <th></th>\n",
              "      <th></th>\n",
              "      <th></th>\n",
              "      <th></th>\n",
              "      <th></th>\n",
              "      <th></th>\n",
              "    </tr>\n",
              "  </thead>\n",
              "  <tbody>\n",
              "    <tr>\n",
              "      <th>1</th>\n",
              "      <td>20000</td>\n",
              "      <td>2</td>\n",
              "      <td>2</td>\n",
              "      <td>1</td>\n",
              "      <td>24</td>\n",
              "      <td>2</td>\n",
              "      <td>2</td>\n",
              "      <td>-1</td>\n",
              "      <td>-1</td>\n",
              "      <td>-2</td>\n",
              "      <td>...</td>\n",
              "      <td>0</td>\n",
              "      <td>0</td>\n",
              "      <td>0</td>\n",
              "      <td>0</td>\n",
              "      <td>689</td>\n",
              "      <td>0</td>\n",
              "      <td>0</td>\n",
              "      <td>0</td>\n",
              "      <td>0</td>\n",
              "      <td>1</td>\n",
              "    </tr>\n",
              "    <tr>\n",
              "      <th>2</th>\n",
              "      <td>120000</td>\n",
              "      <td>2</td>\n",
              "      <td>2</td>\n",
              "      <td>2</td>\n",
              "      <td>26</td>\n",
              "      <td>-1</td>\n",
              "      <td>2</td>\n",
              "      <td>0</td>\n",
              "      <td>0</td>\n",
              "      <td>0</td>\n",
              "      <td>...</td>\n",
              "      <td>3272</td>\n",
              "      <td>3455</td>\n",
              "      <td>3261</td>\n",
              "      <td>0</td>\n",
              "      <td>1000</td>\n",
              "      <td>1000</td>\n",
              "      <td>1000</td>\n",
              "      <td>0</td>\n",
              "      <td>2000</td>\n",
              "      <td>1</td>\n",
              "    </tr>\n",
              "    <tr>\n",
              "      <th>3</th>\n",
              "      <td>90000</td>\n",
              "      <td>2</td>\n",
              "      <td>2</td>\n",
              "      <td>2</td>\n",
              "      <td>34</td>\n",
              "      <td>0</td>\n",
              "      <td>0</td>\n",
              "      <td>0</td>\n",
              "      <td>0</td>\n",
              "      <td>0</td>\n",
              "      <td>...</td>\n",
              "      <td>14331</td>\n",
              "      <td>14948</td>\n",
              "      <td>15549</td>\n",
              "      <td>1518</td>\n",
              "      <td>1500</td>\n",
              "      <td>1000</td>\n",
              "      <td>1000</td>\n",
              "      <td>1000</td>\n",
              "      <td>5000</td>\n",
              "      <td>0</td>\n",
              "    </tr>\n",
              "    <tr>\n",
              "      <th>4</th>\n",
              "      <td>50000</td>\n",
              "      <td>2</td>\n",
              "      <td>2</td>\n",
              "      <td>1</td>\n",
              "      <td>37</td>\n",
              "      <td>0</td>\n",
              "      <td>0</td>\n",
              "      <td>0</td>\n",
              "      <td>0</td>\n",
              "      <td>0</td>\n",
              "      <td>...</td>\n",
              "      <td>28314</td>\n",
              "      <td>28959</td>\n",
              "      <td>29547</td>\n",
              "      <td>2000</td>\n",
              "      <td>2019</td>\n",
              "      <td>1200</td>\n",
              "      <td>1100</td>\n",
              "      <td>1069</td>\n",
              "      <td>1000</td>\n",
              "      <td>0</td>\n",
              "    </tr>\n",
              "    <tr>\n",
              "      <th>5</th>\n",
              "      <td>50000</td>\n",
              "      <td>1</td>\n",
              "      <td>2</td>\n",
              "      <td>1</td>\n",
              "      <td>57</td>\n",
              "      <td>-1</td>\n",
              "      <td>0</td>\n",
              "      <td>-1</td>\n",
              "      <td>0</td>\n",
              "      <td>0</td>\n",
              "      <td>...</td>\n",
              "      <td>20940</td>\n",
              "      <td>19146</td>\n",
              "      <td>19131</td>\n",
              "      <td>2000</td>\n",
              "      <td>36681</td>\n",
              "      <td>10000</td>\n",
              "      <td>9000</td>\n",
              "      <td>689</td>\n",
              "      <td>679</td>\n",
              "      <td>0</td>\n",
              "    </tr>\n",
              "  </tbody>\n",
              "</table>\n",
              "<p>5 rows × 24 columns</p>\n",
              "</div>"
            ],
            "text/plain": [
              "    LIMIT_BAL  SEX  EDUCATION  MARRIAGE  AGE  PAY_1  PAY_2  PAY_3  PAY_4  \\\n",
              "ID                                                                         \n",
              "1       20000    2          2         1   24      2      2     -1     -1   \n",
              "2      120000    2          2         2   26     -1      2      0      0   \n",
              "3       90000    2          2         2   34      0      0      0      0   \n",
              "4       50000    2          2         1   37      0      0      0      0   \n",
              "5       50000    1          2         1   57     -1      0     -1      0   \n",
              "\n",
              "    PAY_5  ...  BILL_AMT4  BILL_AMT5  BILL_AMT6  PAY_AMT1  PAY_AMT2  PAY_AMT3  \\\n",
              "ID         ...                                                                  \n",
              "1      -2  ...          0          0          0         0       689         0   \n",
              "2       0  ...       3272       3455       3261         0      1000      1000   \n",
              "3       0  ...      14331      14948      15549      1518      1500      1000   \n",
              "4       0  ...      28314      28959      29547      2000      2019      1200   \n",
              "5       0  ...      20940      19146      19131      2000     36681     10000   \n",
              "\n",
              "    PAY_AMT4  PAY_AMT5  PAY_AMT6  default payment next month  \n",
              "ID                                                            \n",
              "1          0         0         0                           1  \n",
              "2       1000         0      2000                           1  \n",
              "3       1000      1000      5000                           0  \n",
              "4       1100      1069      1000                           0  \n",
              "5       9000       689       679                           0  \n",
              "\n",
              "[5 rows x 24 columns]"
            ]
          },
          "metadata": {
            "tags": []
          },
          "execution_count": 4
        }
      ]
    },
    {
      "cell_type": "code",
      "metadata": {
        "id": "GkSzQ9oRCVMT",
        "colab_type": "code",
        "outputId": "609ac7fa-2c21-4015-ea04-fc9a69b67258",
        "colab": {
          "base_uri": "https://localhost:8080/",
          "height": 34
        }
      },
      "source": [
        "ccd.shape #(30000, 24)"
      ],
      "execution_count": 0,
      "outputs": [
        {
          "output_type": "execute_result",
          "data": {
            "text/plain": [
              "(30000, 24)"
            ]
          },
          "metadata": {
            "tags": []
          },
          "execution_count": 8
        }
      ]
    },
    {
      "cell_type": "code",
      "metadata": {
        "id": "ZQKMW9SQC_hK",
        "colab_type": "code",
        "colab": {}
      },
      "source": [
        "#Reduz os nomes das colunas para lower case\n",
        "ccd.rename(columns=lambda x: x.lower(), inplace=True)"
      ],
      "execution_count": 0,
      "outputs": []
    },
    {
      "cell_type": "code",
      "metadata": {
        "id": "GO3DCNZYDcbI",
        "colab_type": "code",
        "outputId": "3d70e5a0-0c8f-463b-bdaa-237c787bad0b",
        "colab": {
          "base_uri": "https://localhost:8080/",
          "height": 170
        }
      },
      "source": [
        "#Estatísticas da colunas education (lembrando que todas foram transforamdas em lower case)\n",
        "ccd['education'].describe()"
      ],
      "execution_count": 0,
      "outputs": [
        {
          "output_type": "execute_result",
          "data": {
            "text/plain": [
              "count    30000.000000\n",
              "mean         1.853133\n",
              "std          0.790349\n",
              "min          0.000000\n",
              "25%          1.000000\n",
              "50%          2.000000\n",
              "75%          2.000000\n",
              "max          6.000000\n",
              "Name: education, dtype: float64"
            ]
          },
          "metadata": {
            "tags": []
          },
          "execution_count": 19
        }
      ]
    },
    {
      "cell_type": "code",
      "metadata": {
        "id": "B_kQJ6XtDd9R",
        "colab_type": "code",
        "colab": {}
      },
      "source": [
        "bill_amt_features = ['bill_amt'+str(i) for i in range(1,7)]\n",
        "pay_amt_features = ['pay_amt' +str(i) for i in range(1,7)] \n",
        "numerical_features = ['limit_bal', 'age'] + bill_amt_features + pay_amt_features"
      ],
      "execution_count": 0,
      "outputs": []
    },
    {
      "cell_type": "code",
      "metadata": {
        "id": "4i9G3jzgEgAe",
        "colab_type": "code",
        "outputId": "ca5a18b3-1721-4b6c-d9d1-6c67432150bf",
        "colab": {
          "base_uri": "https://localhost:8080/",
          "height": 255
        }
      },
      "source": [
        "# bill_amt_features\n",
        "# pay_amt_features\n",
        "numerical_features"
      ],
      "execution_count": 0,
      "outputs": [
        {
          "output_type": "execute_result",
          "data": {
            "text/plain": [
              "['limit_bal',\n",
              " 'age',\n",
              " 'bill_amt1',\n",
              " 'bill_amt2',\n",
              " 'bill_amt3',\n",
              " 'bill_amt4',\n",
              " 'bill_amt5',\n",
              " 'bill_amt6',\n",
              " 'pay_amt1',\n",
              " 'pay_amt2',\n",
              " 'pay_amt3',\n",
              " 'pay_amt4',\n",
              " 'pay_amt5',\n",
              " 'pay_amt6']"
            ]
          },
          "metadata": {
            "tags": []
          },
          "execution_count": 28
        }
      ]
    },
    {
      "cell_type": "code",
      "metadata": {
        "id": "uyR-MW8iEhXm",
        "colab_type": "code",
        "outputId": "13e7f4d3-008c-4e4c-865e-240b48f6f036",
        "colab": {
          "base_uri": "https://localhost:8080/",
          "height": 297
        }
      },
      "source": [
        "ccd[bill_amt_features].describe().round()\n",
        "# ccd[bill_amt_features].describe()"
      ],
      "execution_count": 0,
      "outputs": [
        {
          "output_type": "execute_result",
          "data": {
            "text/html": [
              "<div>\n",
              "<style scoped>\n",
              "    .dataframe tbody tr th:only-of-type {\n",
              "        vertical-align: middle;\n",
              "    }\n",
              "\n",
              "    .dataframe tbody tr th {\n",
              "        vertical-align: top;\n",
              "    }\n",
              "\n",
              "    .dataframe thead th {\n",
              "        text-align: right;\n",
              "    }\n",
              "</style>\n",
              "<table border=\"1\" class=\"dataframe\">\n",
              "  <thead>\n",
              "    <tr style=\"text-align: right;\">\n",
              "      <th></th>\n",
              "      <th>bill_amt1</th>\n",
              "      <th>bill_amt2</th>\n",
              "      <th>bill_amt3</th>\n",
              "      <th>bill_amt4</th>\n",
              "      <th>bill_amt5</th>\n",
              "      <th>bill_amt6</th>\n",
              "    </tr>\n",
              "  </thead>\n",
              "  <tbody>\n",
              "    <tr>\n",
              "      <th>count</th>\n",
              "      <td>30000.0</td>\n",
              "      <td>30000.0</td>\n",
              "      <td>30000.0</td>\n",
              "      <td>30000.0</td>\n",
              "      <td>30000.0</td>\n",
              "      <td>30000.0</td>\n",
              "    </tr>\n",
              "    <tr>\n",
              "      <th>mean</th>\n",
              "      <td>51223.0</td>\n",
              "      <td>49179.0</td>\n",
              "      <td>47013.0</td>\n",
              "      <td>43263.0</td>\n",
              "      <td>40311.0</td>\n",
              "      <td>38872.0</td>\n",
              "    </tr>\n",
              "    <tr>\n",
              "      <th>std</th>\n",
              "      <td>73636.0</td>\n",
              "      <td>71174.0</td>\n",
              "      <td>69349.0</td>\n",
              "      <td>64333.0</td>\n",
              "      <td>60797.0</td>\n",
              "      <td>59554.0</td>\n",
              "    </tr>\n",
              "    <tr>\n",
              "      <th>min</th>\n",
              "      <td>-165580.0</td>\n",
              "      <td>-69777.0</td>\n",
              "      <td>-157264.0</td>\n",
              "      <td>-170000.0</td>\n",
              "      <td>-81334.0</td>\n",
              "      <td>-339603.0</td>\n",
              "    </tr>\n",
              "    <tr>\n",
              "      <th>25%</th>\n",
              "      <td>3559.0</td>\n",
              "      <td>2985.0</td>\n",
              "      <td>2666.0</td>\n",
              "      <td>2327.0</td>\n",
              "      <td>1763.0</td>\n",
              "      <td>1256.0</td>\n",
              "    </tr>\n",
              "    <tr>\n",
              "      <th>50%</th>\n",
              "      <td>22382.0</td>\n",
              "      <td>21200.0</td>\n",
              "      <td>20088.0</td>\n",
              "      <td>19052.0</td>\n",
              "      <td>18104.0</td>\n",
              "      <td>17071.0</td>\n",
              "    </tr>\n",
              "    <tr>\n",
              "      <th>75%</th>\n",
              "      <td>67091.0</td>\n",
              "      <td>64006.0</td>\n",
              "      <td>60165.0</td>\n",
              "      <td>54506.0</td>\n",
              "      <td>50190.0</td>\n",
              "      <td>49198.0</td>\n",
              "    </tr>\n",
              "    <tr>\n",
              "      <th>max</th>\n",
              "      <td>964511.0</td>\n",
              "      <td>983931.0</td>\n",
              "      <td>1664089.0</td>\n",
              "      <td>891586.0</td>\n",
              "      <td>927171.0</td>\n",
              "      <td>961664.0</td>\n",
              "    </tr>\n",
              "  </tbody>\n",
              "</table>\n",
              "</div>"
            ],
            "text/plain": [
              "       bill_amt1  bill_amt2  bill_amt3  bill_amt4  bill_amt5  bill_amt6\n",
              "count    30000.0    30000.0    30000.0    30000.0    30000.0    30000.0\n",
              "mean     51223.0    49179.0    47013.0    43263.0    40311.0    38872.0\n",
              "std      73636.0    71174.0    69349.0    64333.0    60797.0    59554.0\n",
              "min    -165580.0   -69777.0  -157264.0  -170000.0   -81334.0  -339603.0\n",
              "25%       3559.0     2985.0     2666.0     2327.0     1763.0     1256.0\n",
              "50%      22382.0    21200.0    20088.0    19052.0    18104.0    17071.0\n",
              "75%      67091.0    64006.0    60165.0    54506.0    50190.0    49198.0\n",
              "max     964511.0   983931.0  1664089.0   891586.0   927171.0   961664.0"
            ]
          },
          "metadata": {
            "tags": []
          },
          "execution_count": 37
        }
      ]
    },
    {
      "cell_type": "code",
      "metadata": {
        "id": "JP0B6pGxE2Ie",
        "colab_type": "code",
        "colab": {}
      },
      "source": [
        "ccd['male'] = (ccd['sex'] == 1).astype('int')"
      ],
      "execution_count": 0,
      "outputs": []
    },
    {
      "cell_type": "code",
      "metadata": {
        "id": "ro3fQ6pCF8kD",
        "colab_type": "code",
        "outputId": "4a78ad91-6824-4a4c-ae6f-61feab506594",
        "colab": {
          "base_uri": "https://localhost:8080/",
          "height": 34
        }
      },
      "source": [
        "ccd['male'].mean()"
      ],
      "execution_count": 0,
      "outputs": [
        {
          "output_type": "execute_result",
          "data": {
            "text/plain": [
              "0.39626666666666666"
            ]
          },
          "metadata": {
            "tags": []
          },
          "execution_count": 43
        }
      ]
    },
    {
      "cell_type": "code",
      "metadata": {
        "id": "T9-taBCCGLPq",
        "colab_type": "code",
        "colab": {}
      },
      "source": [
        ""
      ],
      "execution_count": 0,
      "outputs": []
    }
  ]
}
{
  "nbformat": 4,
  "nbformat_minor": 0,
  "metadata": {
    "colab": {
      "name": "MyFirstSimpleNN",
      "version": "0.3.2",
      "provenance": [],
      "include_colab_link": true
    },
    "kernelspec": {
      "name": "python3",
      "display_name": "Python 3"
    }
  },
  "cells": [
    {
      "cell_type": "markdown",
      "metadata": {
        "id": "view-in-github",
        "colab_type": "text"
      },
      "source": [
        "<a href=\"https://colab.research.google.com/github/jeffersonjpa/DataScienceStudies/blob/master/MyFirstSimpleNN.ipynb\" target=\"_parent\"><img src=\"https://colab.research.google.com/assets/colab-badge.svg\" alt=\"Open In Colab\"/></a>"
      ]
    },
    {
      "cell_type": "markdown",
      "metadata": {
        "id": "E5Tc9nYhPRja",
        "colab_type": "text"
      },
      "source": [
        "# My First Simple NN in Keras\n"
      ]
    },
    {
      "cell_type": "code",
      "metadata": {
        "id": "PEtQUC-WNaYf",
        "colab_type": "code",
        "outputId": "b2e1df0c-a280-476d-9a97-2c97f205bf88",
        "colab": {
          "base_uri": "https://localhost:8080/",
          "height": 105
        }
      },
      "source": [
        "import keras\n",
        "\n",
        "model = keras.Sequential([keras.layers.Dense(units=1, input_shape=[1])])"
      ],
      "execution_count": 0,
      "outputs": [
        {
          "output_type": "stream",
          "text": [
            "Using TensorFlow backend.\n"
          ],
          "name": "stderr"
        },
        {
          "output_type": "stream",
          "text": [
            "WARNING:tensorflow:From /usr/local/lib/python3.6/dist-packages/tensorflow/python/framework/op_def_library.py:263: colocate_with (from tensorflow.python.framework.ops) is deprecated and will be removed in a future version.\n",
            "Instructions for updating:\n",
            "Colocations handled automatically by placer.\n"
          ],
          "name": "stdout"
        }
      ]
    },
    {
      "cell_type": "code",
      "metadata": {
        "id": "ONSAIqstOB2e",
        "colab_type": "code",
        "colab": {}
      },
      "source": [
        "model.compile(optimizer='sgd', loss='mean_squared_error')"
      ],
      "execution_count": 0,
      "outputs": []
    },
    {
      "cell_type": "code",
      "metadata": {
        "id": "FjoyJBBoOQ5U",
        "colab_type": "code",
        "colab": {}
      },
      "source": [
        "import numpy as np\n",
        "\n",
        "xs = np.array([-1.0, 0.0, 1.0, 2.0, 3.0, 4.0], dtype=float)\n",
        "ys = np.array([-3.0, -1.0, 1.0, 3.0, 5.0, 7.0], dtype=float)"
      ],
      "execution_count": 0,
      "outputs": []
    },
    {
      "cell_type": "code",
      "metadata": {
        "id": "2GF2IUW8OjDq",
        "colab_type": "code",
        "outputId": "3fe33d77-b8c1-4e89-8503-9704c8f5c9af",
        "colab": {
          "base_uri": "https://localhost:8080/",
          "height": 445
        }
      },
      "source": [
        "model.fit(xs, ys, epochs=10)"
      ],
      "execution_count": 0,
      "outputs": [
        {
          "output_type": "stream",
          "text": [
            "WARNING:tensorflow:From /usr/local/lib/python3.6/dist-packages/tensorflow/python/ops/math_ops.py:3066: to_int32 (from tensorflow.python.ops.math_ops) is deprecated and will be removed in a future version.\n",
            "Instructions for updating:\n",
            "Use tf.cast instead.\n",
            "Epoch 1/10\n",
            "6/6 [==============================] - 0s 74ms/step - loss: 35.3436\n",
            "Epoch 2/10\n",
            "6/6 [==============================] - 0s 709us/step - loss: 28.1425\n",
            "Epoch 3/10\n",
            "6/6 [==============================] - 0s 444us/step - loss: 22.4700\n",
            "Epoch 4/10\n",
            "6/6 [==============================] - 0s 389us/step - loss: 18.0004\n",
            "Epoch 5/10\n",
            "6/6 [==============================] - 0s 397us/step - loss: 14.4774\n",
            "Epoch 6/10\n",
            "6/6 [==============================] - 0s 120us/step - loss: 11.6991\n",
            "Epoch 7/10\n",
            "6/6 [==============================] - 0s 119us/step - loss: 9.5070\n",
            "Epoch 8/10\n",
            "6/6 [==============================] - 0s 193us/step - loss: 7.7761\n",
            "Epoch 9/10\n",
            "6/6 [==============================] - 0s 178us/step - loss: 6.4082\n",
            "Epoch 10/10\n",
            "6/6 [==============================] - 0s 200us/step - loss: 5.3261\n"
          ],
          "name": "stdout"
        },
        {
          "output_type": "execute_result",
          "data": {
            "text/plain": [
              "<keras.callbacks.History at 0x7fd447ec0470>"
            ]
          },
          "metadata": {
            "tags": []
          },
          "execution_count": 10
        }
      ]
    },
    {
      "cell_type": "code",
      "metadata": {
        "id": "9T_pvwagO16B",
        "colab_type": "code",
        "outputId": "d2608945-676c-4f87-e34d-6bf88989abb5",
        "colab": {
          "base_uri": "https://localhost:8080/",
          "height": 34
        }
      },
      "source": [
        "print(model.predict([10.0]))"
      ],
      "execution_count": 0,
      "outputs": [
        {
          "output_type": "stream",
          "text": [
            "[[8.270825]]\n"
          ],
          "name": "stdout"
        }
      ]
    },
    {
      "cell_type": "code",
      "metadata": {
        "id": "HGDk4z45O-Pw",
        "colab_type": "code",
        "colab": {}
      },
      "source": [
        ""
      ],
      "execution_count": 0,
      "outputs": []
    }
  ]
}
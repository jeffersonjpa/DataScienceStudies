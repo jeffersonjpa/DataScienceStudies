{
  "nbformat": 4,
  "nbformat_minor": 0,
  "metadata": {
    "colab": {
      "name": "pandas_studies3.ipynb",
      "version": "0.3.2",
      "provenance": [],
      "collapsed_sections": [],
      "include_colab_link": true
    },
    "kernelspec": {
      "name": "python3",
      "display_name": "Python 3"
    }
  },
  "cells": [
    {
      "cell_type": "markdown",
      "metadata": {
        "id": "view-in-github",
        "colab_type": "text"
      },
      "source": [
        "<a href=\"https://colab.research.google.com/github/jeffersonjpa/DataScienceStudies/blob/master/pandas_studies3.ipynb\" target=\"_parent\"><img src=\"https://colab.research.google.com/assets/colab-badge.svg\" alt=\"Open In Colab\"/></a>"
      ]
    },
    {
      "cell_type": "code",
      "metadata": {
        "id": "kPMWkuGLYlE4",
        "colab_type": "code",
        "colab": {}
      },
      "source": [
        "import pandas as pd\n",
        "import numpy as np"
      ],
      "execution_count": 0,
      "outputs": []
    },
    {
      "cell_type": "code",
      "metadata": {
        "id": "8AqJnGcTakIH",
        "colab_type": "code",
        "colab": {}
      },
      "source": [
        "# df = pd.DataFrame(\n",
        "# {\"a\" : [4 ,5, 6],\n",
        "# \"b\" : [7, 8, 9],\n",
        "# \"c\" : [10, 11, 12]},\n",
        "# index = [1, 2, 3])\n",
        "# df"
      ],
      "execution_count": 0,
      "outputs": []
    },
    {
      "cell_type": "code",
      "metadata": {
        "id": "imAYU_fman66",
        "colab_type": "code",
        "outputId": "f4e4b93f-9fab-4ae9-daa5-e5d4efe70229",
        "colab": {
          "base_uri": "https://localhost:8080/",
          "height": 142
        }
      },
      "source": [
        "df = pd.DataFrame(\n",
        "[[4, None, 10],\n",
        "[5, 8, 11],\n",
        "[6, 9, None]],\n",
        "index=[1, 2, 3],\n",
        "columns=['a', 'b', 'c'])\n",
        "df"
      ],
      "execution_count": 0,
      "outputs": [
        {
          "output_type": "execute_result",
          "data": {
            "text/html": [
              "<div>\n",
              "<style scoped>\n",
              "    .dataframe tbody tr th:only-of-type {\n",
              "        vertical-align: middle;\n",
              "    }\n",
              "\n",
              "    .dataframe tbody tr th {\n",
              "        vertical-align: top;\n",
              "    }\n",
              "\n",
              "    .dataframe thead th {\n",
              "        text-align: right;\n",
              "    }\n",
              "</style>\n",
              "<table border=\"1\" class=\"dataframe\">\n",
              "  <thead>\n",
              "    <tr style=\"text-align: right;\">\n",
              "      <th></th>\n",
              "      <th>a</th>\n",
              "      <th>b</th>\n",
              "      <th>c</th>\n",
              "    </tr>\n",
              "  </thead>\n",
              "  <tbody>\n",
              "    <tr>\n",
              "      <th>1</th>\n",
              "      <td>4</td>\n",
              "      <td>NaN</td>\n",
              "      <td>10.0</td>\n",
              "    </tr>\n",
              "    <tr>\n",
              "      <th>2</th>\n",
              "      <td>5</td>\n",
              "      <td>8.0</td>\n",
              "      <td>11.0</td>\n",
              "    </tr>\n",
              "    <tr>\n",
              "      <th>3</th>\n",
              "      <td>6</td>\n",
              "      <td>9.0</td>\n",
              "      <td>NaN</td>\n",
              "    </tr>\n",
              "  </tbody>\n",
              "</table>\n",
              "</div>"
            ],
            "text/plain": [
              "   a    b     c\n",
              "1  4  NaN  10.0\n",
              "2  5  8.0  11.0\n",
              "3  6  9.0   NaN"
            ]
          },
          "metadata": {
            "tags": []
          },
          "execution_count": 29
        }
      ]
    },
    {
      "cell_type": "code",
      "metadata": {
        "id": "WD_oXicHa5fw",
        "colab_type": "code",
        "outputId": "4a22f934-b508-4bfa-f823-2cc44a61044c",
        "colab": {
          "base_uri": "https://localhost:8080/",
          "height": 297
        }
      },
      "source": [
        "# Generates descriptive statistics that summarize the central tendency,\n",
        "#     dispersion and shape of a dataset's distribution, excluding\n",
        "#     ``NaN`` values.\n",
        "df.describe()"
      ],
      "execution_count": 0,
      "outputs": [
        {
          "output_type": "execute_result",
          "data": {
            "text/html": [
              "<div>\n",
              "<style scoped>\n",
              "    .dataframe tbody tr th:only-of-type {\n",
              "        vertical-align: middle;\n",
              "    }\n",
              "\n",
              "    .dataframe tbody tr th {\n",
              "        vertical-align: top;\n",
              "    }\n",
              "\n",
              "    .dataframe thead th {\n",
              "        text-align: right;\n",
              "    }\n",
              "</style>\n",
              "<table border=\"1\" class=\"dataframe\">\n",
              "  <thead>\n",
              "    <tr style=\"text-align: right;\">\n",
              "      <th></th>\n",
              "      <th>a</th>\n",
              "      <th>b</th>\n",
              "      <th>c</th>\n",
              "    </tr>\n",
              "  </thead>\n",
              "  <tbody>\n",
              "    <tr>\n",
              "      <th>count</th>\n",
              "      <td>3.0</td>\n",
              "      <td>2.000000</td>\n",
              "      <td>2.000000</td>\n",
              "    </tr>\n",
              "    <tr>\n",
              "      <th>mean</th>\n",
              "      <td>5.0</td>\n",
              "      <td>8.500000</td>\n",
              "      <td>10.500000</td>\n",
              "    </tr>\n",
              "    <tr>\n",
              "      <th>std</th>\n",
              "      <td>1.0</td>\n",
              "      <td>0.707107</td>\n",
              "      <td>0.707107</td>\n",
              "    </tr>\n",
              "    <tr>\n",
              "      <th>min</th>\n",
              "      <td>4.0</td>\n",
              "      <td>8.000000</td>\n",
              "      <td>10.000000</td>\n",
              "    </tr>\n",
              "    <tr>\n",
              "      <th>25%</th>\n",
              "      <td>4.5</td>\n",
              "      <td>8.250000</td>\n",
              "      <td>10.250000</td>\n",
              "    </tr>\n",
              "    <tr>\n",
              "      <th>50%</th>\n",
              "      <td>5.0</td>\n",
              "      <td>8.500000</td>\n",
              "      <td>10.500000</td>\n",
              "    </tr>\n",
              "    <tr>\n",
              "      <th>75%</th>\n",
              "      <td>5.5</td>\n",
              "      <td>8.750000</td>\n",
              "      <td>10.750000</td>\n",
              "    </tr>\n",
              "    <tr>\n",
              "      <th>max</th>\n",
              "      <td>6.0</td>\n",
              "      <td>9.000000</td>\n",
              "      <td>11.000000</td>\n",
              "    </tr>\n",
              "  </tbody>\n",
              "</table>\n",
              "</div>"
            ],
            "text/plain": [
              "         a         b          c\n",
              "count  3.0  2.000000   2.000000\n",
              "mean   5.0  8.500000  10.500000\n",
              "std    1.0  0.707107   0.707107\n",
              "min    4.0  8.000000  10.000000\n",
              "25%    4.5  8.250000  10.250000\n",
              "50%    5.0  8.500000  10.500000\n",
              "75%    5.5  8.750000  10.750000\n",
              "max    6.0  9.000000  11.000000"
            ]
          },
          "metadata": {
            "tags": []
          },
          "execution_count": 30
        }
      ]
    },
    {
      "cell_type": "markdown",
      "metadata": {
        "id": "3WPdghW9eoXG",
        "colab_type": "text"
      },
      "source": [
        ""
      ]
    },
    {
      "cell_type": "code",
      "metadata": {
        "id": "QMDlgSMIbwH4",
        "colab_type": "code",
        "colab": {}
      },
      "source": [
        "# help(pd.Series.describe)"
      ],
      "execution_count": 0,
      "outputs": []
    },
    {
      "cell_type": "code",
      "metadata": {
        "id": "d9hNysdBbzB9",
        "colab_type": "code",
        "colab": {}
      },
      "source": [
        "# Handling Missing Data\n",
        "# Drop rows with any column having NA/null data.\n",
        "# df.dropna()\n",
        "\n",
        "df\n",
        "# Replace all NA/null data with value.\n",
        "# value = 8.500000\n",
        "# df.fillna(value)\n",
        "\n",
        "\n",
        "# df[['a', 'b']] = df[['a','b']].fillna(value=0)\n",
        "# df[['b']] = df[['b']].fillna(value=8.500000) #Preenche somente a coluna 'b' com a média dos valores\n",
        "\n",
        "df[['c']] = df[['c']].fillna(value=10.500000) #Preenche somente a coluna 'c' com a média dos valores da coluna 'c'"
      ],
      "execution_count": 0,
      "outputs": []
    },
    {
      "cell_type": "code",
      "metadata": {
        "id": "lOEpqJNdc634",
        "colab_type": "code",
        "outputId": "ec9b1c64-1815-4fa7-fc95-01211bbce359",
        "colab": {
          "base_uri": "https://localhost:8080/",
          "height": 142
        }
      },
      "source": [
        "df"
      ],
      "execution_count": 0,
      "outputs": [
        {
          "output_type": "execute_result",
          "data": {
            "text/html": [
              "<div>\n",
              "<style scoped>\n",
              "    .dataframe tbody tr th:only-of-type {\n",
              "        vertical-align: middle;\n",
              "    }\n",
              "\n",
              "    .dataframe tbody tr th {\n",
              "        vertical-align: top;\n",
              "    }\n",
              "\n",
              "    .dataframe thead th {\n",
              "        text-align: right;\n",
              "    }\n",
              "</style>\n",
              "<table border=\"1\" class=\"dataframe\">\n",
              "  <thead>\n",
              "    <tr style=\"text-align: right;\">\n",
              "      <th></th>\n",
              "      <th>a</th>\n",
              "      <th>b</th>\n",
              "      <th>c</th>\n",
              "    </tr>\n",
              "  </thead>\n",
              "  <tbody>\n",
              "    <tr>\n",
              "      <th>1</th>\n",
              "      <td>4</td>\n",
              "      <td>8.5</td>\n",
              "      <td>10.0</td>\n",
              "    </tr>\n",
              "    <tr>\n",
              "      <th>2</th>\n",
              "      <td>5</td>\n",
              "      <td>8.0</td>\n",
              "      <td>11.0</td>\n",
              "    </tr>\n",
              "    <tr>\n",
              "      <th>3</th>\n",
              "      <td>6</td>\n",
              "      <td>9.0</td>\n",
              "      <td>10.5</td>\n",
              "    </tr>\n",
              "  </tbody>\n",
              "</table>\n",
              "</div>"
            ],
            "text/plain": [
              "   a    b     c\n",
              "1  4  8.5  10.0\n",
              "2  5  8.0  11.0\n",
              "3  6  9.0  10.5"
            ]
          },
          "metadata": {
            "tags": []
          },
          "execution_count": 39
        }
      ]
    },
    {
      "cell_type": "code",
      "metadata": {
        "id": "FheGsG2IeT1s",
        "colab_type": "code",
        "outputId": "e1448625-3a28-4e03-f706-7cd69a34f0c7",
        "colab": {
          "base_uri": "https://localhost:8080/",
          "height": 378
        }
      },
      "source": [
        "# df.plot.hist()\n",
        "df.plot.scatter(x='a',y='b')"
      ],
      "execution_count": 0,
      "outputs": [
        {
          "output_type": "execute_result",
          "data": {
            "text/plain": [
              "<matplotlib.axes._subplots.AxesSubplot at 0x7fe9290ede48>"
            ]
          },
          "metadata": {
            "tags": []
          },
          "execution_count": 41
        },
        {
          "output_type": "display_data",
          "data": {
            "image/png": "[encoded data removed]",
            "text/plain": [
              "<Figure size 576x396 with 1 Axes>"
            ]
          },
          "metadata": {
            "tags": []
          }
        }
      ]
    },
    {
      "cell_type": "code",
      "metadata": {
        "id": "zhlsrT3tfcoC",
        "colab_type": "code",
        "outputId": "5a5b92b9-998a-4645-ed9c-4dacb8ebddcc",
        "colab": {
          "base_uri": "https://localhost:8080/",
          "height": 142
        }
      },
      "source": [
        "# Combine Data Sets\n",
        "adf = pd.DataFrame(\n",
        "[['A', 3],\n",
        "['B', 4],\n",
        "['C', 5]],\n",
        "# index=['1', '2', '3'],\n",
        "columns=['X1', 'X2'])\n",
        "adf"
      ],
      "execution_count": 0,
      "outputs": [
        {
          "output_type": "execute_result",
          "data": {
            "text/html": [
              "<div>\n",
              "<style scoped>\n",
              "    .dataframe tbody tr th:only-of-type {\n",
              "        vertical-align: middle;\n",
              "    }\n",
              "\n",
              "    .dataframe tbody tr th {\n",
              "        vertical-align: top;\n",
              "    }\n",
              "\n",
              "    .dataframe thead th {\n",
              "        text-align: right;\n",
              "    }\n",
              "</style>\n",
              "<table border=\"1\" class=\"dataframe\">\n",
              "  <thead>\n",
              "    <tr style=\"text-align: right;\">\n",
              "      <th></th>\n",
              "      <th>X1</th>\n",
              "      <th>X2</th>\n",
              "    </tr>\n",
              "  </thead>\n",
              "  <tbody>\n",
              "    <tr>\n",
              "      <th>0</th>\n",
              "      <td>A</td>\n",
              "      <td>3</td>\n",
              "    </tr>\n",
              "    <tr>\n",
              "      <th>1</th>\n",
              "      <td>B</td>\n",
              "      <td>4</td>\n",
              "    </tr>\n",
              "    <tr>\n",
              "      <th>2</th>\n",
              "      <td>C</td>\n",
              "      <td>5</td>\n",
              "    </tr>\n",
              "  </tbody>\n",
              "</table>\n",
              "</div>"
            ],
            "text/plain": [
              "  X1  X2\n",
              "0  A   3\n",
              "1  B   4\n",
              "2  C   5"
            ]
          },
          "metadata": {
            "tags": []
          },
          "execution_count": 56
        }
      ]
    },
    {
      "cell_type": "code",
      "metadata": {
        "id": "QY1t8IqshBso",
        "colab_type": "code",
        "outputId": "19996b5a-83ca-4d38-e8b9-0119caa58b80",
        "colab": {
          "base_uri": "https://localhost:8080/",
          "height": 142
        }
      },
      "source": [
        "bdf = pd.DataFrame(\n",
        "[['A', 'T'],\n",
        "['B', 'F'],\n",
        "['D', 'T']],\n",
        "# index=['1', '2', '3'],\n",
        "columns=['X1', 'X3'])\n",
        "bdf"
      ],
      "execution_count": 0,
      "outputs": [
        {
          "output_type": "execute_result",
          "data": {
            "text/html": [
              "<div>\n",
              "<style scoped>\n",
              "    .dataframe tbody tr th:only-of-type {\n",
              "        vertical-align: middle;\n",
              "    }\n",
              "\n",
              "    .dataframe tbody tr th {\n",
              "        vertical-align: top;\n",
              "    }\n",
              "\n",
              "    .dataframe thead th {\n",
              "        text-align: right;\n",
              "    }\n",
              "</style>\n",
              "<table border=\"1\" class=\"dataframe\">\n",
              "  <thead>\n",
              "    <tr style=\"text-align: right;\">\n",
              "      <th></th>\n",
              "      <th>X1</th>\n",
              "      <th>X3</th>\n",
              "    </tr>\n",
              "  </thead>\n",
              "  <tbody>\n",
              "    <tr>\n",
              "      <th>0</th>\n",
              "      <td>A</td>\n",
              "      <td>T</td>\n",
              "    </tr>\n",
              "    <tr>\n",
              "      <th>1</th>\n",
              "      <td>B</td>\n",
              "      <td>F</td>\n",
              "    </tr>\n",
              "    <tr>\n",
              "      <th>2</th>\n",
              "      <td>D</td>\n",
              "      <td>T</td>\n",
              "    </tr>\n",
              "  </tbody>\n",
              "</table>\n",
              "</div>"
            ],
            "text/plain": [
              "  X1 X3\n",
              "0  A  T\n",
              "1  B  F\n",
              "2  D  T"
            ]
          },
          "metadata": {
            "tags": []
          },
          "execution_count": 57
        }
      ]
    },
    {
      "cell_type": "code",
      "metadata": {
        "id": "-fkIqgW3h6nI",
        "colab_type": "code",
        "outputId": "e42b40fc-f628-4cc7-d590-79334d164fc2",
        "colab": {
          "base_uri": "https://localhost:8080/",
          "height": 142
        }
      },
      "source": [
        "#Traz toda o dataset (DataFrame) da esquerda (adf) + as linhas compatíveis com a coluna X1 na direita (bdf) quando não houver compatibilidade insere NaN\n",
        "sabdc = pd.merge(adf, bdf, how='left', on='X1')\n",
        "sabdc"
      ],
      "execution_count": 0,
      "outputs": [
        {
          "output_type": "execute_result",
          "data": {
            "text/html": [
              "<div>\n",
              "<style scoped>\n",
              "    .dataframe tbody tr th:only-of-type {\n",
              "        vertical-align: middle;\n",
              "    }\n",
              "\n",
              "    .dataframe tbody tr th {\n",
              "        vertical-align: top;\n",
              "    }\n",
              "\n",
              "    .dataframe thead th {\n",
              "        text-align: right;\n",
              "    }\n",
              "</style>\n",
              "<table border=\"1\" class=\"dataframe\">\n",
              "  <thead>\n",
              "    <tr style=\"text-align: right;\">\n",
              "      <th></th>\n",
              "      <th>X1</th>\n",
              "      <th>X2</th>\n",
              "      <th>X3</th>\n",
              "    </tr>\n",
              "  </thead>\n",
              "  <tbody>\n",
              "    <tr>\n",
              "      <th>0</th>\n",
              "      <td>A</td>\n",
              "      <td>3</td>\n",
              "      <td>T</td>\n",
              "    </tr>\n",
              "    <tr>\n",
              "      <th>1</th>\n",
              "      <td>B</td>\n",
              "      <td>4</td>\n",
              "      <td>F</td>\n",
              "    </tr>\n",
              "    <tr>\n",
              "      <th>2</th>\n",
              "      <td>C</td>\n",
              "      <td>5</td>\n",
              "      <td>NaN</td>\n",
              "    </tr>\n",
              "  </tbody>\n",
              "</table>\n",
              "</div>"
            ],
            "text/plain": [
              "  X1  X2   X3\n",
              "0  A   3    T\n",
              "1  B   4    F\n",
              "2  C   5  NaN"
            ]
          },
          "metadata": {
            "tags": []
          },
          "execution_count": 65
        }
      ]
    },
    {
      "cell_type": "code",
      "metadata": {
        "id": "EnuYtT2LiIC_",
        "colab_type": "code",
        "outputId": "3bb185d2-f750-46de-ee8f-0b574b214b11",
        "colab": {
          "base_uri": "https://localhost:8080/",
          "height": 173
        }
      },
      "source": [
        "pd.merge(adf, bdf, how='right', on='X1')\n",
        "pd.merge(adf, bdf, how='inner', on='X1')\n",
        "pd.merge(adf, bdf, how='outer', on='X1')"
      ],
      "execution_count": 0,
      "outputs": [
        {
          "output_type": "execute_result",
          "data": {
            "text/html": [
              "<div>\n",
              "<style scoped>\n",
              "    .dataframe tbody tr th:only-of-type {\n",
              "        vertical-align: middle;\n",
              "    }\n",
              "\n",
              "    .dataframe tbody tr th {\n",
              "        vertical-align: top;\n",
              "    }\n",
              "\n",
              "    .dataframe thead th {\n",
              "        text-align: right;\n",
              "    }\n",
              "</style>\n",
              "<table border=\"1\" class=\"dataframe\">\n",
              "  <thead>\n",
              "    <tr style=\"text-align: right;\">\n",
              "      <th></th>\n",
              "      <th>X1</th>\n",
              "      <th>X2</th>\n",
              "      <th>X3</th>\n",
              "    </tr>\n",
              "  </thead>\n",
              "  <tbody>\n",
              "    <tr>\n",
              "      <th>0</th>\n",
              "      <td>A</td>\n",
              "      <td>3.0</td>\n",
              "      <td>T</td>\n",
              "    </tr>\n",
              "    <tr>\n",
              "      <th>1</th>\n",
              "      <td>B</td>\n",
              "      <td>4.0</td>\n",
              "      <td>F</td>\n",
              "    </tr>\n",
              "    <tr>\n",
              "      <th>2</th>\n",
              "      <td>C</td>\n",
              "      <td>5.0</td>\n",
              "      <td>NaN</td>\n",
              "    </tr>\n",
              "    <tr>\n",
              "      <th>3</th>\n",
              "      <td>D</td>\n",
              "      <td>NaN</td>\n",
              "      <td>T</td>\n",
              "    </tr>\n",
              "  </tbody>\n",
              "</table>\n",
              "</div>"
            ],
            "text/plain": [
              "  X1   X2   X3\n",
              "0  A  3.0    T\n",
              "1  B  4.0    F\n",
              "2  C  5.0  NaN\n",
              "3  D  NaN    T"
            ]
          },
          "metadata": {
            "tags": []
          },
          "execution_count": 61
        }
      ]
    },
    {
      "cell_type": "code",
      "metadata": {
        "id": "3aA_PhTSjj-z",
        "colab_type": "code",
        "outputId": "51d4f78b-0e79-4fe5-f326-3da3e78102fa",
        "colab": {
          "base_uri": "https://localhost:8080/",
          "height": 111
        }
      },
      "source": [
        "# Drop columns from DataFrame\n",
        "# df.drop(columns=['Length','Height'])\n",
        "\n",
        "\n",
        "sabdc.dropna(how='any')\n",
        "# sabdc\n",
        "# sabdc.describe()\n"
      ],
      "execution_count": 0,
      "outputs": [
        {
          "output_type": "execute_result",
          "data": {
            "text/html": [
              "<div>\n",
              "<style scoped>\n",
              "    .dataframe tbody tr th:only-of-type {\n",
              "        vertical-align: middle;\n",
              "    }\n",
              "\n",
              "    .dataframe tbody tr th {\n",
              "        vertical-align: top;\n",
              "    }\n",
              "\n",
              "    .dataframe thead th {\n",
              "        text-align: right;\n",
              "    }\n",
              "</style>\n",
              "<table border=\"1\" class=\"dataframe\">\n",
              "  <thead>\n",
              "    <tr style=\"text-align: right;\">\n",
              "      <th></th>\n",
              "      <th>X1</th>\n",
              "      <th>X2</th>\n",
              "      <th>X3</th>\n",
              "    </tr>\n",
              "  </thead>\n",
              "  <tbody>\n",
              "    <tr>\n",
              "      <th>0</th>\n",
              "      <td>A</td>\n",
              "      <td>3</td>\n",
              "      <td>T</td>\n",
              "    </tr>\n",
              "    <tr>\n",
              "      <th>1</th>\n",
              "      <td>B</td>\n",
              "      <td>4</td>\n",
              "      <td>F</td>\n",
              "    </tr>\n",
              "  </tbody>\n",
              "</table>\n",
              "</div>"
            ],
            "text/plain": [
              "  X1  X2 X3\n",
              "0  A   3  T\n",
              "1  B   4  F"
            ]
          },
          "metadata": {
            "tags": []
          },
          "execution_count": 69
        }
      ]
    },
    {
      "cell_type": "code",
      "metadata": {
        "id": "G6KIWmErjrWZ",
        "colab_type": "code",
        "outputId": "37fb7f63-48a2-4ba8-ba14-d81f339701cd",
        "colab": {
          "base_uri": "https://localhost:8080/",
          "height": 235
        }
      },
      "source": [
        "# Dummy encoding\n",
        "df = pd.DataFrame({'key': list('bbacab'), 'data1': range(6)})\n",
        "df"
      ],
      "execution_count": 0,
      "outputs": [
        {
          "output_type": "execute_result",
          "data": {
            "text/html": [
              "<div>\n",
              "<style scoped>\n",
              "    .dataframe tbody tr th:only-of-type {\n",
              "        vertical-align: middle;\n",
              "    }\n",
              "\n",
              "    .dataframe tbody tr th {\n",
              "        vertical-align: top;\n",
              "    }\n",
              "\n",
              "    .dataframe thead th {\n",
              "        text-align: right;\n",
              "    }\n",
              "</style>\n",
              "<table border=\"1\" class=\"dataframe\">\n",
              "  <thead>\n",
              "    <tr style=\"text-align: right;\">\n",
              "      <th></th>\n",
              "      <th>data1</th>\n",
              "      <th>key</th>\n",
              "    </tr>\n",
              "  </thead>\n",
              "  <tbody>\n",
              "    <tr>\n",
              "      <th>0</th>\n",
              "      <td>0</td>\n",
              "      <td>b</td>\n",
              "    </tr>\n",
              "    <tr>\n",
              "      <th>1</th>\n",
              "      <td>1</td>\n",
              "      <td>b</td>\n",
              "    </tr>\n",
              "    <tr>\n",
              "      <th>2</th>\n",
              "      <td>2</td>\n",
              "      <td>a</td>\n",
              "    </tr>\n",
              "    <tr>\n",
              "      <th>3</th>\n",
              "      <td>3</td>\n",
              "      <td>c</td>\n",
              "    </tr>\n",
              "    <tr>\n",
              "      <th>4</th>\n",
              "      <td>4</td>\n",
              "      <td>a</td>\n",
              "    </tr>\n",
              "    <tr>\n",
              "      <th>5</th>\n",
              "      <td>5</td>\n",
              "      <td>b</td>\n",
              "    </tr>\n",
              "  </tbody>\n",
              "</table>\n",
              "</div>"
            ],
            "text/plain": [
              "   data1 key\n",
              "0      0   b\n",
              "1      1   b\n",
              "2      2   a\n",
              "3      3   c\n",
              "4      4   a\n",
              "5      5   b"
            ]
          },
          "metadata": {
            "tags": []
          },
          "execution_count": 71
        }
      ]
    },
    {
      "cell_type": "code",
      "metadata": {
        "id": "64yizwK4kun2",
        "colab_type": "code",
        "outputId": "66fc7a19-f370-4b56-8d05-fd07e8af04ce",
        "colab": {
          "base_uri": "https://localhost:8080/",
          "height": 235
        }
      },
      "source": [
        "# pd.get_dummies(df['key'])\n",
        "pd.get_dummies(df['key'])"
      ],
      "execution_count": 0,
      "outputs": [
        {
          "output_type": "execute_result",
          "data": {
            "text/html": [
              "<div>\n",
              "<style scoped>\n",
              "    .dataframe tbody tr th:only-of-type {\n",
              "        vertical-align: middle;\n",
              "    }\n",
              "\n",
              "    .dataframe tbody tr th {\n",
              "        vertical-align: top;\n",
              "    }\n",
              "\n",
              "    .dataframe thead th {\n",
              "        text-align: right;\n",
              "    }\n",
              "</style>\n",
              "<table border=\"1\" class=\"dataframe\">\n",
              "  <thead>\n",
              "    <tr style=\"text-align: right;\">\n",
              "      <th></th>\n",
              "      <th>a</th>\n",
              "      <th>b</th>\n",
              "      <th>c</th>\n",
              "    </tr>\n",
              "  </thead>\n",
              "  <tbody>\n",
              "    <tr>\n",
              "      <th>0</th>\n",
              "      <td>0</td>\n",
              "      <td>1</td>\n",
              "      <td>0</td>\n",
              "    </tr>\n",
              "    <tr>\n",
              "      <th>1</th>\n",
              "      <td>0</td>\n",
              "      <td>1</td>\n",
              "      <td>0</td>\n",
              "    </tr>\n",
              "    <tr>\n",
              "      <th>2</th>\n",
              "      <td>1</td>\n",
              "      <td>0</td>\n",
              "      <td>0</td>\n",
              "    </tr>\n",
              "    <tr>\n",
              "      <th>3</th>\n",
              "      <td>0</td>\n",
              "      <td>0</td>\n",
              "      <td>1</td>\n",
              "    </tr>\n",
              "    <tr>\n",
              "      <th>4</th>\n",
              "      <td>1</td>\n",
              "      <td>0</td>\n",
              "      <td>0</td>\n",
              "    </tr>\n",
              "    <tr>\n",
              "      <th>5</th>\n",
              "      <td>0</td>\n",
              "      <td>1</td>\n",
              "      <td>0</td>\n",
              "    </tr>\n",
              "  </tbody>\n",
              "</table>\n",
              "</div>"
            ],
            "text/plain": [
              "   a  b  c\n",
              "0  0  1  0\n",
              "1  0  1  0\n",
              "2  1  0  0\n",
              "3  0  0  1\n",
              "4  1  0  0\n",
              "5  0  1  0"
            ]
          },
          "metadata": {
            "tags": []
          },
          "execution_count": 72
        }
      ]
    },
    {
      "cell_type": "code",
      "metadata": {
        "id": "leadxUsfk4J3",
        "colab_type": "code",
        "outputId": "0f1f32ad-5126-4a15-e4ba-9f985dc69477",
        "colab": {
          "base_uri": "https://localhost:8080/",
          "height": 235
        }
      },
      "source": [
        "#Dummie encongin com prefixo key\n",
        "dummies = pd.get_dummies(df['key'], prefix='key')\n",
        "dummies"
      ],
      "execution_count": 0,
      "outputs": [
        {
          "output_type": "execute_result",
          "data": {
            "text/html": [
              "<div>\n",
              "<style scoped>\n",
              "    .dataframe tbody tr th:only-of-type {\n",
              "        vertical-align: middle;\n",
              "    }\n",
              "\n",
              "    .dataframe tbody tr th {\n",
              "        vertical-align: top;\n",
              "    }\n",
              "\n",
              "    .dataframe thead th {\n",
              "        text-align: right;\n",
              "    }\n",
              "</style>\n",
              "<table border=\"1\" class=\"dataframe\">\n",
              "  <thead>\n",
              "    <tr style=\"text-align: right;\">\n",
              "      <th></th>\n",
              "      <th>key_a</th>\n",
              "      <th>key_b</th>\n",
              "      <th>key_c</th>\n",
              "    </tr>\n",
              "  </thead>\n",
              "  <tbody>\n",
              "    <tr>\n",
              "      <th>0</th>\n",
              "      <td>0</td>\n",
              "      <td>1</td>\n",
              "      <td>0</td>\n",
              "    </tr>\n",
              "    <tr>\n",
              "      <th>1</th>\n",
              "      <td>0</td>\n",
              "      <td>1</td>\n",
              "      <td>0</td>\n",
              "    </tr>\n",
              "    <tr>\n",
              "      <th>2</th>\n",
              "      <td>1</td>\n",
              "      <td>0</td>\n",
              "      <td>0</td>\n",
              "    </tr>\n",
              "    <tr>\n",
              "      <th>3</th>\n",
              "      <td>0</td>\n",
              "      <td>0</td>\n",
              "      <td>1</td>\n",
              "    </tr>\n",
              "    <tr>\n",
              "      <th>4</th>\n",
              "      <td>1</td>\n",
              "      <td>0</td>\n",
              "      <td>0</td>\n",
              "    </tr>\n",
              "    <tr>\n",
              "      <th>5</th>\n",
              "      <td>0</td>\n",
              "      <td>1</td>\n",
              "      <td>0</td>\n",
              "    </tr>\n",
              "  </tbody>\n",
              "</table>\n",
              "</div>"
            ],
            "text/plain": [
              "   key_a  key_b  key_c\n",
              "0      0      1      0\n",
              "1      0      1      0\n",
              "2      1      0      0\n",
              "3      0      0      1\n",
              "4      1      0      0\n",
              "5      0      1      0"
            ]
          },
          "metadata": {
            "tags": []
          },
          "execution_count": 74
        }
      ]
    },
    {
      "cell_type": "code",
      "metadata": {
        "id": "tmD0brGflFBm",
        "colab_type": "code",
        "outputId": "00207fd6-926a-4453-d274-7ca4f091d8d3",
        "colab": {
          "base_uri": "https://localhost:8080/",
          "height": 235
        }
      },
      "source": [
        "df[['data1']].join(dummies)"
      ],
      "execution_count": 0,
      "outputs": [
        {
          "output_type": "execute_result",
          "data": {
            "text/html": [
              "<div>\n",
              "<style scoped>\n",
              "    .dataframe tbody tr th:only-of-type {\n",
              "        vertical-align: middle;\n",
              "    }\n",
              "\n",
              "    .dataframe tbody tr th {\n",
              "        vertical-align: top;\n",
              "    }\n",
              "\n",
              "    .dataframe thead th {\n",
              "        text-align: right;\n",
              "    }\n",
              "</style>\n",
              "<table border=\"1\" class=\"dataframe\">\n",
              "  <thead>\n",
              "    <tr style=\"text-align: right;\">\n",
              "      <th></th>\n",
              "      <th>data1</th>\n",
              "      <th>key_a</th>\n",
              "      <th>key_b</th>\n",
              "      <th>key_c</th>\n",
              "    </tr>\n",
              "  </thead>\n",
              "  <tbody>\n",
              "    <tr>\n",
              "      <th>0</th>\n",
              "      <td>0</td>\n",
              "      <td>0</td>\n",
              "      <td>1</td>\n",
              "      <td>0</td>\n",
              "    </tr>\n",
              "    <tr>\n",
              "      <th>1</th>\n",
              "      <td>1</td>\n",
              "      <td>0</td>\n",
              "      <td>1</td>\n",
              "      <td>0</td>\n",
              "    </tr>\n",
              "    <tr>\n",
              "      <th>2</th>\n",
              "      <td>2</td>\n",
              "      <td>1</td>\n",
              "      <td>0</td>\n",
              "      <td>0</td>\n",
              "    </tr>\n",
              "    <tr>\n",
              "      <th>3</th>\n",
              "      <td>3</td>\n",
              "      <td>0</td>\n",
              "      <td>0</td>\n",
              "      <td>1</td>\n",
              "    </tr>\n",
              "    <tr>\n",
              "      <th>4</th>\n",
              "      <td>4</td>\n",
              "      <td>1</td>\n",
              "      <td>0</td>\n",
              "      <td>0</td>\n",
              "    </tr>\n",
              "    <tr>\n",
              "      <th>5</th>\n",
              "      <td>5</td>\n",
              "      <td>0</td>\n",
              "      <td>1</td>\n",
              "      <td>0</td>\n",
              "    </tr>\n",
              "  </tbody>\n",
              "</table>\n",
              "</div>"
            ],
            "text/plain": [
              "   data1  key_a  key_b  key_c\n",
              "0      0      0      1      0\n",
              "1      1      0      1      0\n",
              "2      2      1      0      0\n",
              "3      3      0      0      1\n",
              "4      4      1      0      0\n",
              "5      5      0      1      0"
            ]
          },
          "metadata": {
            "tags": []
          },
          "execution_count": 75
        }
      ]
    },
    {
      "cell_type": "code",
      "metadata": {
        "id": "YqZa8Mn1lOlo",
        "colab_type": "code",
        "outputId": "a97ba507-449f-4a8d-e1f2-d1cdab870651",
        "colab": {
          "base_uri": "https://localhost:8080/",
          "height": 51
        }
      },
      "source": [
        "#\n",
        "values = np.random.randn(10)\n",
        "values"
      ],
      "execution_count": 0,
      "outputs": [
        {
          "output_type": "execute_result",
          "data": {
            "text/plain": [
              "array([ 1.56080525,  0.33002498, -0.80094246,  0.11463806,  2.52599327,\n",
              "       -0.74894817,  0.91141507, -1.22449101, -0.30735249,  0.82852754])"
            ]
          },
          "metadata": {
            "tags": []
          },
          "execution_count": 79
        }
      ]
    },
    {
      "cell_type": "code",
      "metadata": {
        "id": "FQSxMr6xlX7d",
        "colab_type": "code",
        "outputId": "4df09d68-f814-489a-bb05-53caf5622093",
        "colab": {
          "base_uri": "https://localhost:8080/",
          "height": 136
        }
      },
      "source": [
        "#  Fatorização factorize()\n",
        " x = pd.Series(['A', 'A', np.nan, 'B', 3.14, np.inf])\n",
        " x"
      ],
      "execution_count": 0,
      "outputs": [
        {
          "output_type": "execute_result",
          "data": {
            "text/plain": [
              "0       A\n",
              "1       A\n",
              "2     NaN\n",
              "3       B\n",
              "4    3.14\n",
              "5     inf\n",
              "dtype: object"
            ]
          },
          "metadata": {
            "tags": []
          },
          "execution_count": 83
        }
      ]
    },
    {
      "cell_type": "code",
      "metadata": {
        "id": "fcmQiTqMl2us",
        "colab_type": "code",
        "outputId": "e639d99f-7836-435e-9576-60c3cb046066",
        "colab": {
          "base_uri": "https://localhost:8080/",
          "height": 34
        }
      },
      "source": [
        "# labels, uniques = pd.factorize(x)\n",
        "labels, uniques = pd.factorize(x)\n",
        "labels\n",
        "# uniques\n"
      ],
      "execution_count": 0,
      "outputs": [
        {
          "output_type": "execute_result",
          "data": {
            "text/plain": [
              "array([ 0,  0, -1,  1,  2,  3])"
            ]
          },
          "metadata": {
            "tags": []
          },
          "execution_count": 86
        }
      ]
    },
    {
      "cell_type": "code",
      "metadata": {
        "id": "F9rVmdDimDNk",
        "colab_type": "code",
        "outputId": "88f249c4-0540-48fa-9ac6-8b07098485be",
        "colab": {
          "base_uri": "https://localhost:8080/",
          "height": 306
        }
      },
      "source": [
        " help(pd.Series.factorize)"
      ],
      "execution_count": 0,
      "outputs": [
        {
          "output_type": "stream",
          "text": [
            "Help on function factorize in module pandas.core.base:\n",
            "\n",
            "factorize(self, sort=False, na_sentinel=-1)\n",
            "    Encode the object as an enumerated type or categorical variable\n",
            "    \n",
            "    Parameters\n",
            "    ----------\n",
            "    sort : boolean, default False\n",
            "        Sort by values\n",
            "    na_sentinel: int, default -1\n",
            "        Value to mark \"not found\"\n",
            "    \n",
            "    Returns\n",
            "    -------\n",
            "    labels : the indexer to the original array\n",
            "    uniques : the unique Index\n",
            "\n"
          ],
          "name": "stdout"
        }
      ]
    },
    {
      "cell_type": "code",
      "metadata": {
        "id": "AQ28p0uimOxs",
        "colab_type": "code",
        "outputId": "0ecd25fe-75be-4f60-ea78-4756deff964a",
        "colab": {
          "base_uri": "https://localhost:8080/",
          "height": 375
        }
      },
      "source": [
        "ts = pd.Series(np.random.randn(1000), index=pd.date_range('1/1/2000', periods=1000))\n",
        "ts = ts.cumsum() #Return cumulative sum over requested axis.\n",
        "ts.plot()"
      ],
      "execution_count": 0,
      "outputs": [
        {
          "output_type": "execute_result",
          "data": {
            "text/plain": [
              "<matplotlib.axes._subplots.AxesSubplot at 0x7fe926fddeb8>"
            ]
          },
          "metadata": {
            "tags": []
          },
          "execution_count": 89
        },
        {
          "output_type": "display_data",
          "data": {
            "image/png": "[encoded data removed]",
            "text/plain": [
              "<Figure size 576x396 with 1 Axes>"
            ]
          },
          "metadata": {
            "tags": []
          }
        }
      ]
    },
    {
      "cell_type": "code",
      "metadata": {
        "id": "3GlvzKpCmzKj",
        "colab_type": "code",
        "outputId": "bf8714a2-8344-4d1e-9431-627dff61f0ee",
        "colab": {
          "base_uri": "https://localhost:8080/",
          "height": 408
        }
      },
      "source": [
        "# help(pd.Series.cumsum)"
      ],
      "execution_count": 0,
      "outputs": [
        {
          "output_type": "stream",
          "text": [
            "Help on function cumsum in module pandas.core.series:\n",
            "\n",
            "cumsum(self, axis=None, skipna=True, *args, **kwargs)\n",
            "    Return cumulative sum over requested axis.\n",
            "    \n",
            "    Parameters\n",
            "    ----------\n",
            "    axis : {index (0)}\n",
            "    skipna : boolean, default True\n",
            "        Exclude NA/null values. If an entire row/column is NA, the result\n",
            "        will be NA\n",
            "    \n",
            "    Returns\n",
            "    -------\n",
            "    cumsum : scalar\n",
            "    \n",
            "    \n",
            "    \n",
            "    See also\n",
            "    --------\n",
            "    pandas.core.window.Expanding.sum : Similar functionality\n",
            "        but ignores ``NaN`` values.\n",
            "\n"
          ],
          "name": "stdout"
        }
      ]
    },
    {
      "cell_type": "code",
      "metadata": {
        "id": "KRPonZTunCZZ",
        "colab_type": "code",
        "outputId": "46387d1b-cc26-42c9-e20c-067a3d4a6431",
        "colab": {
          "base_uri": "https://localhost:8080/",
          "height": 173
        }
      },
      "source": [
        "#Replace\n",
        "d = {'a': list(range(4)), 'b': list('ab..'), 'c': ['a', 'b', np.nan, 'd']}\n",
        "# df = pd.DataFrame(d)\n",
        "df = pd.DataFrame(d)\n",
        "df"
      ],
      "execution_count": 0,
      "outputs": [
        {
          "output_type": "execute_result",
          "data": {
            "text/html": [
              "<div>\n",
              "<style scoped>\n",
              "    .dataframe tbody tr th:only-of-type {\n",
              "        vertical-align: middle;\n",
              "    }\n",
              "\n",
              "    .dataframe tbody tr th {\n",
              "        vertical-align: top;\n",
              "    }\n",
              "\n",
              "    .dataframe thead th {\n",
              "        text-align: right;\n",
              "    }\n",
              "</style>\n",
              "<table border=\"1\" class=\"dataframe\">\n",
              "  <thead>\n",
              "    <tr style=\"text-align: right;\">\n",
              "      <th></th>\n",
              "      <th>a</th>\n",
              "      <th>b</th>\n",
              "      <th>c</th>\n",
              "    </tr>\n",
              "  </thead>\n",
              "  <tbody>\n",
              "    <tr>\n",
              "      <th>0</th>\n",
              "      <td>0</td>\n",
              "      <td>a</td>\n",
              "      <td>a</td>\n",
              "    </tr>\n",
              "    <tr>\n",
              "      <th>1</th>\n",
              "      <td>1</td>\n",
              "      <td>b</td>\n",
              "      <td>b</td>\n",
              "    </tr>\n",
              "    <tr>\n",
              "      <th>2</th>\n",
              "      <td>2</td>\n",
              "      <td>.</td>\n",
              "      <td>NaN</td>\n",
              "    </tr>\n",
              "    <tr>\n",
              "      <th>3</th>\n",
              "      <td>3</td>\n",
              "      <td>.</td>\n",
              "      <td>d</td>\n",
              "    </tr>\n",
              "  </tbody>\n",
              "</table>\n",
              "</div>"
            ],
            "text/plain": [
              "   a  b    c\n",
              "0  0  a    a\n",
              "1  1  b    b\n",
              "2  2  .  NaN\n",
              "3  3  .    d"
            ]
          },
          "metadata": {
            "tags": []
          },
          "execution_count": 93
        }
      ]
    },
    {
      "cell_type": "code",
      "metadata": {
        "id": "zqJqyagxoDhp",
        "colab_type": "code",
        "outputId": "05f022a3-8d7d-4ff2-a456-00e1e3ad9165",
        "colab": {
          "base_uri": "https://localhost:8080/",
          "height": 173
        }
      },
      "source": [
        "df.replace('.', np.nan) #replace . onde encontrar no dataset por NaN"
      ],
      "execution_count": 0,
      "outputs": [
        {
          "output_type": "execute_result",
          "data": {
            "text/html": [
              "<div>\n",
              "<style scoped>\n",
              "    .dataframe tbody tr th:only-of-type {\n",
              "        vertical-align: middle;\n",
              "    }\n",
              "\n",
              "    .dataframe tbody tr th {\n",
              "        vertical-align: top;\n",
              "    }\n",
              "\n",
              "    .dataframe thead th {\n",
              "        text-align: right;\n",
              "    }\n",
              "</style>\n",
              "<table border=\"1\" class=\"dataframe\">\n",
              "  <thead>\n",
              "    <tr style=\"text-align: right;\">\n",
              "      <th></th>\n",
              "      <th>a</th>\n",
              "      <th>b</th>\n",
              "      <th>c</th>\n",
              "    </tr>\n",
              "  </thead>\n",
              "  <tbody>\n",
              "    <tr>\n",
              "      <th>0</th>\n",
              "      <td>0</td>\n",
              "      <td>a</td>\n",
              "      <td>a</td>\n",
              "    </tr>\n",
              "    <tr>\n",
              "      <th>1</th>\n",
              "      <td>1</td>\n",
              "      <td>b</td>\n",
              "      <td>b</td>\n",
              "    </tr>\n",
              "    <tr>\n",
              "      <th>2</th>\n",
              "      <td>2</td>\n",
              "      <td>NaN</td>\n",
              "      <td>NaN</td>\n",
              "    </tr>\n",
              "    <tr>\n",
              "      <th>3</th>\n",
              "      <td>3</td>\n",
              "      <td>NaN</td>\n",
              "      <td>d</td>\n",
              "    </tr>\n",
              "  </tbody>\n",
              "</table>\n",
              "</div>"
            ],
            "text/plain": [
              "   a    b    c\n",
              "0  0    a    a\n",
              "1  1    b    b\n",
              "2  2  NaN  NaN\n",
              "3  3  NaN    d"
            ]
          },
          "metadata": {
            "tags": []
          },
          "execution_count": 94
        }
      ]
    },
    {
      "cell_type": "code",
      "metadata": {
        "id": "gDtvDHbOoPB0",
        "colab_type": "code",
        "outputId": "f26375de-10ec-4bfd-9c8e-64661f96cb9e",
        "colab": {
          "base_uri": "https://localhost:8080/",
          "height": 1377
        }
      },
      "source": [
        "# df.sample(2)\n",
        "help(pd.Series.sample)"
      ],
      "execution_count": 0,
      "outputs": [
        {
          "output_type": "stream",
          "text": [
            "Help on function sample in module pandas.core.generic:\n",
            "\n",
            "sample(self, n=None, frac=None, replace=False, weights=None, random_state=None, axis=None)\n",
            "    Returns a random sample of items from an axis of object.\n",
            "    \n",
            "    Parameters\n",
            "    ----------\n",
            "    n : int, optional\n",
            "        Number of items from axis to return. Cannot be used with `frac`.\n",
            "        Default = 1 if `frac` = None.\n",
            "    frac : float, optional\n",
            "        Fraction of axis items to return. Cannot be used with `n`.\n",
            "    replace : boolean, optional\n",
            "        Sample with or without replacement. Default = False.\n",
            "    weights : str or ndarray-like, optional\n",
            "        Default 'None' results in equal probability weighting.\n",
            "        If passed a Series, will align with target object on index. Index\n",
            "        values in weights not found in sampled object will be ignored and\n",
            "        index values in sampled object not in weights will be assigned\n",
            "        weights of zero.\n",
            "        If called on a DataFrame, will accept the name of a column\n",
            "        when axis = 0.\n",
            "        Unless weights are a Series, weights must be same length as axis\n",
            "        being sampled.\n",
            "        If weights do not sum to 1, they will be normalized to sum to 1.\n",
            "        Missing values in the weights column will be treated as zero.\n",
            "        inf and -inf values not allowed.\n",
            "    random_state : int or numpy.random.RandomState, optional\n",
            "        Seed for the random number generator (if int), or numpy RandomState\n",
            "        object.\n",
            "    axis : int or string, optional\n",
            "        Axis to sample. Accepts axis number or name. Default is stat axis\n",
            "        for given data type (0 for Series and DataFrames, 1 for Panels).\n",
            "    \n",
            "    Returns\n",
            "    -------\n",
            "    A new object of same type as caller.\n",
            "    \n",
            "    Examples\n",
            "    --------\n",
            "    \n",
            "    Generate an example ``Series`` and ``DataFrame``:\n",
            "    \n",
            "    >>> s = pd.Series(np.random.randn(50))\n",
            "    >>> s.head()\n",
            "    0   -0.038497\n",
            "    1    1.820773\n",
            "    2   -0.972766\n",
            "    3   -1.598270\n",
            "    4   -1.095526\n",
            "    dtype: float64\n",
            "    >>> df = pd.DataFrame(np.random.randn(50, 4), columns=list('ABCD'))\n",
            "    >>> df.head()\n",
            "              A         B         C         D\n",
            "    0  0.016443 -2.318952 -0.566372 -1.028078\n",
            "    1 -1.051921  0.438836  0.658280 -0.175797\n",
            "    2 -1.243569 -0.364626 -0.215065  0.057736\n",
            "    3  1.768216  0.404512 -0.385604 -1.457834\n",
            "    4  1.072446 -1.137172  0.314194 -0.046661\n",
            "    \n",
            "    Next extract a random sample from both of these objects...\n",
            "    \n",
            "    3 random elements from the ``Series``:\n",
            "    \n",
            "    >>> s.sample(n=3)\n",
            "    27   -0.994689\n",
            "    55   -1.049016\n",
            "    67   -0.224565\n",
            "    dtype: float64\n",
            "    \n",
            "    And a random 10% of the ``DataFrame`` with replacement:\n",
            "    \n",
            "    >>> df.sample(frac=0.1, replace=True)\n",
            "               A         B         C         D\n",
            "    35  1.981780  0.142106  1.817165 -0.290805\n",
            "    49 -1.336199 -0.448634 -0.789640  0.217116\n",
            "    40  0.823173 -0.078816  1.009536  1.015108\n",
            "    15  1.421154 -0.055301 -1.922594 -0.019696\n",
            "    6  -0.148339  0.832938  1.787600 -1.383767\n",
            "\n"
          ],
          "name": "stdout"
        }
      ]
    },
    {
      "cell_type": "code",
      "metadata": {
        "id": "65-3SJC9p-7G",
        "colab_type": "code",
        "outputId": "951a2c29-04dc-4a9e-975d-03bedfdac051",
        "colab": {
          "base_uri": "https://localhost:8080/",
          "height": 204
        }
      },
      "source": [
        "# numpy\n",
        "# help(np.random.randn)\n",
        "df = pd.DataFrame(np.random.randn(50, 4), columns=list('ABCD'))\n",
        "df.head()"
      ],
      "execution_count": 0,
      "outputs": [
        {
          "output_type": "execute_result",
          "data": {
            "text/html": [
              "<div>\n",
              "<style scoped>\n",
              "    .dataframe tbody tr th:only-of-type {\n",
              "        vertical-align: middle;\n",
              "    }\n",
              "\n",
              "    .dataframe tbody tr th {\n",
              "        vertical-align: top;\n",
              "    }\n",
              "\n",
              "    .dataframe thead th {\n",
              "        text-align: right;\n",
              "    }\n",
              "</style>\n",
              "<table border=\"1\" class=\"dataframe\">\n",
              "  <thead>\n",
              "    <tr style=\"text-align: right;\">\n",
              "      <th></th>\n",
              "      <th>A</th>\n",
              "      <th>B</th>\n",
              "      <th>C</th>\n",
              "      <th>D</th>\n",
              "    </tr>\n",
              "  </thead>\n",
              "  <tbody>\n",
              "    <tr>\n",
              "      <th>0</th>\n",
              "      <td>0.032353</td>\n",
              "      <td>-1.070593</td>\n",
              "      <td>0.945246</td>\n",
              "      <td>-0.462425</td>\n",
              "    </tr>\n",
              "    <tr>\n",
              "      <th>1</th>\n",
              "      <td>-1.087732</td>\n",
              "      <td>0.456776</td>\n",
              "      <td>-0.549742</td>\n",
              "      <td>1.700915</td>\n",
              "    </tr>\n",
              "    <tr>\n",
              "      <th>2</th>\n",
              "      <td>-0.836414</td>\n",
              "      <td>1.322387</td>\n",
              "      <td>0.550990</td>\n",
              "      <td>-1.376769</td>\n",
              "    </tr>\n",
              "    <tr>\n",
              "      <th>3</th>\n",
              "      <td>0.092436</td>\n",
              "      <td>-0.853956</td>\n",
              "      <td>1.264190</td>\n",
              "      <td>0.045295</td>\n",
              "    </tr>\n",
              "    <tr>\n",
              "      <th>4</th>\n",
              "      <td>-1.598927</td>\n",
              "      <td>1.372231</td>\n",
              "      <td>0.056886</td>\n",
              "      <td>0.139024</td>\n",
              "    </tr>\n",
              "  </tbody>\n",
              "</table>\n",
              "</div>"
            ],
            "text/plain": [
              "          A         B         C         D\n",
              "0  0.032353 -1.070593  0.945246 -0.462425\n",
              "1 -1.087732  0.456776 -0.549742  1.700915\n",
              "2 -0.836414  1.322387  0.550990 -1.376769\n",
              "3  0.092436 -0.853956  1.264190  0.045295\n",
              "4 -1.598927  1.372231  0.056886  0.139024"
            ]
          },
          "metadata": {
            "tags": []
          },
          "execution_count": 102
        }
      ]
    },
    {
      "cell_type": "code",
      "metadata": {
        "id": "C8gVPS6pqenv",
        "colab_type": "code",
        "outputId": "159bb95a-74c3-48cf-ec13-c66407e1b2db",
        "colab": {
          "base_uri": "https://localhost:8080/",
          "height": 297
        }
      },
      "source": [
        "df.describe()"
      ],
      "execution_count": 0,
      "outputs": [
        {
          "output_type": "execute_result",
          "data": {
            "text/html": [
              "<div>\n",
              "<style scoped>\n",
              "    .dataframe tbody tr th:only-of-type {\n",
              "        vertical-align: middle;\n",
              "    }\n",
              "\n",
              "    .dataframe tbody tr th {\n",
              "        vertical-align: top;\n",
              "    }\n",
              "\n",
              "    .dataframe thead th {\n",
              "        text-align: right;\n",
              "    }\n",
              "</style>\n",
              "<table border=\"1\" class=\"dataframe\">\n",
              "  <thead>\n",
              "    <tr style=\"text-align: right;\">\n",
              "      <th></th>\n",
              "      <th>A</th>\n",
              "      <th>B</th>\n",
              "      <th>C</th>\n",
              "      <th>D</th>\n",
              "    </tr>\n",
              "  </thead>\n",
              "  <tbody>\n",
              "    <tr>\n",
              "      <th>count</th>\n",
              "      <td>50.000000</td>\n",
              "      <td>50.000000</td>\n",
              "      <td>50.000000</td>\n",
              "      <td>50.000000</td>\n",
              "    </tr>\n",
              "    <tr>\n",
              "      <th>mean</th>\n",
              "      <td>-0.039625</td>\n",
              "      <td>-0.028450</td>\n",
              "      <td>-0.135086</td>\n",
              "      <td>-0.159174</td>\n",
              "    </tr>\n",
              "    <tr>\n",
              "      <th>std</th>\n",
              "      <td>0.996498</td>\n",
              "      <td>0.931088</td>\n",
              "      <td>0.915065</td>\n",
              "      <td>0.983375</td>\n",
              "    </tr>\n",
              "    <tr>\n",
              "      <th>min</th>\n",
              "      <td>-1.839678</td>\n",
              "      <td>-2.057774</td>\n",
              "      <td>-2.034002</td>\n",
              "      <td>-2.607403</td>\n",
              "    </tr>\n",
              "    <tr>\n",
              "      <th>25%</th>\n",
              "      <td>-0.782463</td>\n",
              "      <td>-0.835146</td>\n",
              "      <td>-0.654456</td>\n",
              "      <td>-0.736780</td>\n",
              "    </tr>\n",
              "    <tr>\n",
              "      <th>50%</th>\n",
              "      <td>0.010749</td>\n",
              "      <td>0.090629</td>\n",
              "      <td>-0.032652</td>\n",
              "      <td>-0.060915</td>\n",
              "    </tr>\n",
              "    <tr>\n",
              "      <th>75%</th>\n",
              "      <td>0.395434</td>\n",
              "      <td>0.711262</td>\n",
              "      <td>0.392269</td>\n",
              "      <td>0.429088</td>\n",
              "    </tr>\n",
              "    <tr>\n",
              "      <th>max</th>\n",
              "      <td>2.544578</td>\n",
              "      <td>1.630247</td>\n",
              "      <td>1.791564</td>\n",
              "      <td>2.923573</td>\n",
              "    </tr>\n",
              "  </tbody>\n",
              "</table>\n",
              "</div>"
            ],
            "text/plain": [
              "               A          B          C          D\n",
              "count  50.000000  50.000000  50.000000  50.000000\n",
              "mean   -0.039625  -0.028450  -0.135086  -0.159174\n",
              "std     0.996498   0.931088   0.915065   0.983375\n",
              "min    -1.839678  -2.057774  -2.034002  -2.607403\n",
              "25%    -0.782463  -0.835146  -0.654456  -0.736780\n",
              "50%     0.010749   0.090629  -0.032652  -0.060915\n",
              "75%     0.395434   0.711262   0.392269   0.429088\n",
              "max     2.544578   1.630247   1.791564   2.923573"
            ]
          },
          "metadata": {
            "tags": []
          },
          "execution_count": 103
        }
      ]
    },
    {
      "cell_type": "code",
      "metadata": {
        "id": "i8rNBpXuq-Kw",
        "colab_type": "code",
        "outputId": "3b5573c1-5eae-4427-d472-74ea8a31fbb6",
        "colab": {
          "base_uri": "https://localhost:8080/",
          "height": 102
        }
      },
      "source": [
        "df.mean(0)"
      ],
      "execution_count": 0,
      "outputs": [
        {
          "output_type": "execute_result",
          "data": {
            "text/plain": [
              "A   -0.039625\n",
              "B   -0.028450\n",
              "C   -0.135086\n",
              "D   -0.159174\n",
              "dtype: float64"
            ]
          },
          "metadata": {
            "tags": []
          },
          "execution_count": 107
        }
      ]
    },
    {
      "cell_type": "code",
      "metadata": {
        "id": "2FSX2ELjrCGF",
        "colab_type": "code",
        "outputId": "3ad835f5-2c36-4c08-e16c-f7ff415a17d1",
        "colab": {
          "base_uri": "https://localhost:8080/",
          "height": 359
        }
      },
      "source": [
        "df.sample(10)"
      ],
      "execution_count": 0,
      "outputs": [
        {
          "output_type": "execute_result",
          "data": {
            "text/html": [
              "<div>\n",
              "<style scoped>\n",
              "    .dataframe tbody tr th:only-of-type {\n",
              "        vertical-align: middle;\n",
              "    }\n",
              "\n",
              "    .dataframe tbody tr th {\n",
              "        vertical-align: top;\n",
              "    }\n",
              "\n",
              "    .dataframe thead th {\n",
              "        text-align: right;\n",
              "    }\n",
              "</style>\n",
              "<table border=\"1\" class=\"dataframe\">\n",
              "  <thead>\n",
              "    <tr style=\"text-align: right;\">\n",
              "      <th></th>\n",
              "      <th>A</th>\n",
              "      <th>B</th>\n",
              "      <th>C</th>\n",
              "      <th>D</th>\n",
              "    </tr>\n",
              "  </thead>\n",
              "  <tbody>\n",
              "    <tr>\n",
              "      <th>17</th>\n",
              "      <td>-1.644783</td>\n",
              "      <td>-0.233935</td>\n",
              "      <td>1.545229</td>\n",
              "      <td>0.711808</td>\n",
              "    </tr>\n",
              "    <tr>\n",
              "      <th>4</th>\n",
              "      <td>-1.598927</td>\n",
              "      <td>1.372231</td>\n",
              "      <td>0.056886</td>\n",
              "      <td>0.139024</td>\n",
              "    </tr>\n",
              "    <tr>\n",
              "      <th>32</th>\n",
              "      <td>0.106973</td>\n",
              "      <td>1.172178</td>\n",
              "      <td>0.314178</td>\n",
              "      <td>-0.740213</td>\n",
              "    </tr>\n",
              "    <tr>\n",
              "      <th>29</th>\n",
              "      <td>-1.835320</td>\n",
              "      <td>0.165323</td>\n",
              "      <td>-0.121961</td>\n",
              "      <td>-0.047642</td>\n",
              "    </tr>\n",
              "    <tr>\n",
              "      <th>6</th>\n",
              "      <td>0.080510</td>\n",
              "      <td>-0.628742</td>\n",
              "      <td>-0.337987</td>\n",
              "      <td>1.017588</td>\n",
              "    </tr>\n",
              "    <tr>\n",
              "      <th>34</th>\n",
              "      <td>-0.188707</td>\n",
              "      <td>1.630247</td>\n",
              "      <td>-0.019873</td>\n",
              "      <td>-1.439545</td>\n",
              "    </tr>\n",
              "    <tr>\n",
              "      <th>2</th>\n",
              "      <td>-0.836414</td>\n",
              "      <td>1.322387</td>\n",
              "      <td>0.550990</td>\n",
              "      <td>-1.376769</td>\n",
              "    </tr>\n",
              "    <tr>\n",
              "      <th>16</th>\n",
              "      <td>2.544578</td>\n",
              "      <td>1.271150</td>\n",
              "      <td>0.117790</td>\n",
              "      <td>0.025582</td>\n",
              "    </tr>\n",
              "    <tr>\n",
              "      <th>9</th>\n",
              "      <td>0.774282</td>\n",
              "      <td>0.719040</td>\n",
              "      <td>-0.383594</td>\n",
              "      <td>-0.033178</td>\n",
              "    </tr>\n",
              "    <tr>\n",
              "      <th>35</th>\n",
              "      <td>0.053282</td>\n",
              "      <td>1.513208</td>\n",
              "      <td>-1.258204</td>\n",
              "      <td>-0.382111</td>\n",
              "    </tr>\n",
              "  </tbody>\n",
              "</table>\n",
              "</div>"
            ],
            "text/plain": [
              "           A         B         C         D\n",
              "17 -1.644783 -0.233935  1.545229  0.711808\n",
              "4  -1.598927  1.372231  0.056886  0.139024\n",
              "32  0.106973  1.172178  0.314178 -0.740213\n",
              "29 -1.835320  0.165323 -0.121961 -0.047642\n",
              "6   0.080510 -0.628742 -0.337987  1.017588\n",
              "34 -0.188707  1.630247 -0.019873 -1.439545\n",
              "2  -0.836414  1.322387  0.550990 -1.376769\n",
              "16  2.544578  1.271150  0.117790  0.025582\n",
              "9   0.774282  0.719040 -0.383594 -0.033178\n",
              "35  0.053282  1.513208 -1.258204 -0.382111"
            ]
          },
          "metadata": {
            "tags": []
          },
          "execution_count": 118
        }
      ]
    },
    {
      "cell_type": "code",
      "metadata": {
        "id": "hvnPdt4vtCAj",
        "colab_type": "code",
        "outputId": "d9ae6677-cf28-42c7-edae-644787cb136a",
        "colab": {
          "base_uri": "https://localhost:8080/",
          "height": 34
        }
      },
      "source": [
        "df.loc[df.A == 0.080510, 'A']"
      ],
      "execution_count": 0,
      "outputs": [
        {
          "output_type": "execute_result",
          "data": {
            "text/plain": [
              "Series([], Name: A, dtype: float64)"
            ]
          },
          "metadata": {
            "tags": []
          },
          "execution_count": 117
        }
      ]
    },
    {
      "cell_type": "code",
      "metadata": {
        "id": "WDedX3f6tunY",
        "colab_type": "code",
        "colab": {}
      },
      "source": [
        "# data = df\n",
        "\n",
        "# data[0:5] #Somente as linhas 0 a 5 (5 não inclusa), ou seja, somente 5 linhas\n",
        "# data[0:1] #Somente as linhas 1 a 3 (3 não incluso) com todas as colunas\n",
        "# data.loc[[0],] #Extrai a linha 0 de todas as colunas uma vez que a coluna não está informada.\n",
        "# data.loc[[0],['A', 'B']] #Somente a célular linha 0 com coluna 'Country Name'\n",
        "# data.loc[:,'A'] #Todos as linhas da coluna Country Name\n",
        "# data.loc[1] #Todas as informações de uma linha como se fosse uma célula\n",
        "# data.loc[0:3,['Country Name']] #Somente as linhas 0 a 3 com a coluna 'Country Name'\n",
        "\n",
        "# data.loc[0:3,['Country Name','Indicator Name']] #Somente as linhas 0 a 3 com as colunas 'Country Name' and 'Indicator Name'\n",
        "\n",
        "# data.iloc[[1],[1]]\n",
        "\n",
        "# Criando uma nova coluna \n",
        "# data.newcol = np.random.randn(50)\n",
        "# df['E'] = data.newcol\n",
        "\n",
        "# axis : int or axis name Whether to drop labels from the index (0 / 'index') or columns (1 / 'columns').\n",
        "df = df.drop(['newcol'], axis=1) \n",
        "\n",
        "# help(df.Series.drop)\n",
        "# help(pd.Series.drop)\n"
      ],
      "execution_count": 0,
      "outputs": []
    },
    {
      "cell_type": "code",
      "metadata": {
        "id": "FYJoeEOQvRDr",
        "colab_type": "code",
        "outputId": "4411d0b3-0b00-485a-8b24-33cd51f6384a",
        "colab": {
          "base_uri": "https://localhost:8080/",
          "height": 1599
        }
      },
      "source": [
        "df"
      ],
      "execution_count": 0,
      "outputs": [
        {
          "output_type": "execute_result",
          "data": {
            "text/html": [
              "<div>\n",
              "<style scoped>\n",
              "    .dataframe tbody tr th:only-of-type {\n",
              "        vertical-align: middle;\n",
              "    }\n",
              "\n",
              "    .dataframe tbody tr th {\n",
              "        vertical-align: top;\n",
              "    }\n",
              "\n",
              "    .dataframe thead th {\n",
              "        text-align: right;\n",
              "    }\n",
              "</style>\n",
              "<table border=\"1\" class=\"dataframe\">\n",
              "  <thead>\n",
              "    <tr style=\"text-align: right;\">\n",
              "      <th></th>\n",
              "      <th>A</th>\n",
              "      <th>B</th>\n",
              "      <th>C</th>\n",
              "      <th>D</th>\n",
              "      <th>E</th>\n",
              "    </tr>\n",
              "  </thead>\n",
              "  <tbody>\n",
              "    <tr>\n",
              "      <th>0</th>\n",
              "      <td>0.032353</td>\n",
              "      <td>-1.070593</td>\n",
              "      <td>0.945246</td>\n",
              "      <td>-0.462425</td>\n",
              "      <td>-1.183282</td>\n",
              "    </tr>\n",
              "    <tr>\n",
              "      <th>1</th>\n",
              "      <td>-1.087732</td>\n",
              "      <td>0.456776</td>\n",
              "      <td>-0.549742</td>\n",
              "      <td>1.700915</td>\n",
              "      <td>-0.200272</td>\n",
              "    </tr>\n",
              "    <tr>\n",
              "      <th>2</th>\n",
              "      <td>-0.836414</td>\n",
              "      <td>1.322387</td>\n",
              "      <td>0.550990</td>\n",
              "      <td>-1.376769</td>\n",
              "      <td>-0.641720</td>\n",
              "    </tr>\n",
              "    <tr>\n",
              "      <th>3</th>\n",
              "      <td>0.092436</td>\n",
              "      <td>-0.853956</td>\n",
              "      <td>1.264190</td>\n",
              "      <td>0.045295</td>\n",
              "      <td>-2.044784</td>\n",
              "    </tr>\n",
              "    <tr>\n",
              "      <th>4</th>\n",
              "      <td>-1.598927</td>\n",
              "      <td>1.372231</td>\n",
              "      <td>0.056886</td>\n",
              "      <td>0.139024</td>\n",
              "      <td>-0.390342</td>\n",
              "    </tr>\n",
              "    <tr>\n",
              "      <th>5</th>\n",
              "      <td>1.447416</td>\n",
              "      <td>0.449010</td>\n",
              "      <td>-1.288414</td>\n",
              "      <td>-1.512913</td>\n",
              "      <td>0.836691</td>\n",
              "    </tr>\n",
              "    <tr>\n",
              "      <th>6</th>\n",
              "      <td>0.080510</td>\n",
              "      <td>-0.628742</td>\n",
              "      <td>-0.337987</td>\n",
              "      <td>1.017588</td>\n",
              "      <td>-0.620423</td>\n",
              "    </tr>\n",
              "    <tr>\n",
              "      <th>7</th>\n",
              "      <td>0.755417</td>\n",
              "      <td>0.091625</td>\n",
              "      <td>-1.237861</td>\n",
              "      <td>0.201496</td>\n",
              "      <td>0.886656</td>\n",
              "    </tr>\n",
              "    <tr>\n",
              "      <th>8</th>\n",
              "      <td>-0.620610</td>\n",
              "      <td>-1.039439</td>\n",
              "      <td>0.107981</td>\n",
              "      <td>0.956828</td>\n",
              "      <td>-1.098106</td>\n",
              "    </tr>\n",
              "    <tr>\n",
              "      <th>9</th>\n",
              "      <td>0.774282</td>\n",
              "      <td>0.719040</td>\n",
              "      <td>-0.383594</td>\n",
              "      <td>-0.033178</td>\n",
              "      <td>-1.167583</td>\n",
              "    </tr>\n",
              "    <tr>\n",
              "      <th>10</th>\n",
              "      <td>-1.056832</td>\n",
              "      <td>-0.806996</td>\n",
              "      <td>-0.797999</td>\n",
              "      <td>-0.689370</td>\n",
              "      <td>1.818505</td>\n",
              "    </tr>\n",
              "    <tr>\n",
              "      <th>11</th>\n",
              "      <td>0.402857</td>\n",
              "      <td>-1.024453</td>\n",
              "      <td>1.106094</td>\n",
              "      <td>0.583068</td>\n",
              "      <td>-0.522028</td>\n",
              "    </tr>\n",
              "    <tr>\n",
              "      <th>12</th>\n",
              "      <td>-0.844359</td>\n",
              "      <td>0.459079</td>\n",
              "      <td>1.791564</td>\n",
              "      <td>-1.316205</td>\n",
              "      <td>0.117463</td>\n",
              "    </tr>\n",
              "    <tr>\n",
              "      <th>13</th>\n",
              "      <td>-0.331825</td>\n",
              "      <td>0.065426</td>\n",
              "      <td>0.450995</td>\n",
              "      <td>0.972527</td>\n",
              "      <td>-0.133967</td>\n",
              "    </tr>\n",
              "    <tr>\n",
              "      <th>14</th>\n",
              "      <td>0.198899</td>\n",
              "      <td>0.094995</td>\n",
              "      <td>-0.050635</td>\n",
              "      <td>-0.059931</td>\n",
              "      <td>-1.218543</td>\n",
              "    </tr>\n",
              "    <tr>\n",
              "      <th>15</th>\n",
              "      <td>0.313419</td>\n",
              "      <td>-0.754257</td>\n",
              "      <td>0.019136</td>\n",
              "      <td>-0.300238</td>\n",
              "      <td>0.346484</td>\n",
              "    </tr>\n",
              "    <tr>\n",
              "      <th>16</th>\n",
              "      <td>2.544578</td>\n",
              "      <td>1.271150</td>\n",
              "      <td>0.117790</td>\n",
              "      <td>0.025582</td>\n",
              "      <td>-0.556587</td>\n",
              "    </tr>\n",
              "    <tr>\n",
              "      <th>17</th>\n",
              "      <td>-1.644783</td>\n",
              "      <td>-0.233935</td>\n",
              "      <td>1.545229</td>\n",
              "      <td>0.711808</td>\n",
              "      <td>-0.589454</td>\n",
              "    </tr>\n",
              "    <tr>\n",
              "      <th>18</th>\n",
              "      <td>0.197262</td>\n",
              "      <td>1.219337</td>\n",
              "      <td>-0.686335</td>\n",
              "      <td>0.938242</td>\n",
              "      <td>-1.824579</td>\n",
              "    </tr>\n",
              "    <tr>\n",
              "      <th>19</th>\n",
              "      <td>-0.097857</td>\n",
              "      <td>-2.057774</td>\n",
              "      <td>0.438481</td>\n",
              "      <td>0.189060</td>\n",
              "      <td>0.333374</td>\n",
              "    </tr>\n",
              "    <tr>\n",
              "      <th>20</th>\n",
              "      <td>-0.355064</td>\n",
              "      <td>-0.307994</td>\n",
              "      <td>-1.765616</td>\n",
              "      <td>-0.015930</td>\n",
              "      <td>-0.539048</td>\n",
              "    </tr>\n",
              "    <tr>\n",
              "      <th>21</th>\n",
              "      <td>0.036904</td>\n",
              "      <td>0.101496</td>\n",
              "      <td>0.080242</td>\n",
              "      <td>-1.536130</td>\n",
              "      <td>-0.973824</td>\n",
              "    </tr>\n",
              "    <tr>\n",
              "      <th>22</th>\n",
              "      <td>-0.913211</td>\n",
              "      <td>-1.219121</td>\n",
              "      <td>-0.335788</td>\n",
              "      <td>-0.061898</td>\n",
              "      <td>-0.015242</td>\n",
              "    </tr>\n",
              "    <tr>\n",
              "      <th>23</th>\n",
              "      <td>-0.489682</td>\n",
              "      <td>-0.531084</td>\n",
              "      <td>0.268729</td>\n",
              "      <td>-0.274276</td>\n",
              "      <td>-0.673159</td>\n",
              "    </tr>\n",
              "    <tr>\n",
              "      <th>24</th>\n",
              "      <td>1.929019</td>\n",
              "      <td>-0.769439</td>\n",
              "      <td>1.295043</td>\n",
              "      <td>-0.726481</td>\n",
              "      <td>2.154972</td>\n",
              "    </tr>\n",
              "    <tr>\n",
              "      <th>25</th>\n",
              "      <td>-1.058239</td>\n",
              "      <td>-1.121243</td>\n",
              "      <td>-1.865275</td>\n",
              "      <td>-2.607403</td>\n",
              "      <td>-0.014348</td>\n",
              "    </tr>\n",
              "    <tr>\n",
              "      <th>26</th>\n",
              "      <td>0.294534</td>\n",
              "      <td>-1.166544</td>\n",
              "      <td>-0.045432</td>\n",
              "      <td>-0.924323</td>\n",
              "      <td>0.378055</td>\n",
              "    </tr>\n",
              "    <tr>\n",
              "      <th>27</th>\n",
              "      <td>0.447631</td>\n",
              "      <td>-0.738319</td>\n",
              "      <td>0.363146</td>\n",
              "      <td>-0.372973</td>\n",
              "      <td>0.880581</td>\n",
              "    </tr>\n",
              "    <tr>\n",
              "      <th>28</th>\n",
              "      <td>-0.014991</td>\n",
              "      <td>0.144201</td>\n",
              "      <td>-0.448584</td>\n",
              "      <td>0.950492</td>\n",
              "      <td>1.329338</td>\n",
              "    </tr>\n",
              "    <tr>\n",
              "      <th>29</th>\n",
              "      <td>-1.835320</td>\n",
              "      <td>0.165323</td>\n",
              "      <td>-0.121961</td>\n",
              "      <td>-0.047642</td>\n",
              "      <td>0.148089</td>\n",
              "    </tr>\n",
              "    <tr>\n",
              "      <th>30</th>\n",
              "      <td>0.373162</td>\n",
              "      <td>0.089632</td>\n",
              "      <td>-1.845269</td>\n",
              "      <td>0.943291</td>\n",
              "      <td>-1.073378</td>\n",
              "    </tr>\n",
              "    <tr>\n",
              "      <th>31</th>\n",
              "      <td>-1.533609</td>\n",
              "      <td>0.451673</td>\n",
              "      <td>0.593132</td>\n",
              "      <td>-0.918439</td>\n",
              "      <td>-1.904664</td>\n",
              "    </tr>\n",
              "    <tr>\n",
              "      <th>32</th>\n",
              "      <td>0.106973</td>\n",
              "      <td>1.172178</td>\n",
              "      <td>0.314178</td>\n",
              "      <td>-0.740213</td>\n",
              "      <td>0.526591</td>\n",
              "    </tr>\n",
              "    <tr>\n",
              "      <th>33</th>\n",
              "      <td>-0.572655</td>\n",
              "      <td>1.142943</td>\n",
              "      <td>0.241711</td>\n",
              "      <td>-1.567570</td>\n",
              "      <td>-1.423687</td>\n",
              "    </tr>\n",
              "    <tr>\n",
              "      <th>34</th>\n",
              "      <td>-0.188707</td>\n",
              "      <td>1.630247</td>\n",
              "      <td>-0.019873</td>\n",
              "      <td>-1.439545</td>\n",
              "      <td>-0.288955</td>\n",
              "    </tr>\n",
              "    <tr>\n",
              "      <th>35</th>\n",
              "      <td>0.053282</td>\n",
              "      <td>1.513208</td>\n",
              "      <td>-1.258204</td>\n",
              "      <td>-0.382111</td>\n",
              "      <td>1.234565</td>\n",
              "    </tr>\n",
              "    <tr>\n",
              "      <th>36</th>\n",
              "      <td>-1.219405</td>\n",
              "      <td>0.328593</td>\n",
              "      <td>-1.077563</td>\n",
              "      <td>2.923573</td>\n",
              "      <td>-0.123740</td>\n",
              "    </tr>\n",
              "    <tr>\n",
              "      <th>37</th>\n",
              "      <td>1.126392</td>\n",
              "      <td>0.503016</td>\n",
              "      <td>-0.356368</td>\n",
              "      <td>-0.666654</td>\n",
              "      <td>-0.005793</td>\n",
              "    </tr>\n",
              "    <tr>\n",
              "      <th>38</th>\n",
              "      <td>-1.027047</td>\n",
              "      <td>1.060804</td>\n",
              "      <td>-0.060259</td>\n",
              "      <td>-0.521057</td>\n",
              "      <td>-0.816770</td>\n",
              "    </tr>\n",
              "    <tr>\n",
              "      <th>39</th>\n",
              "      <td>0.670031</td>\n",
              "      <td>-1.359038</td>\n",
              "      <td>1.322598</td>\n",
              "      <td>-0.278641</td>\n",
              "      <td>-0.206947</td>\n",
              "    </tr>\n",
              "    <tr>\n",
              "      <th>40</th>\n",
              "      <td>1.030493</td>\n",
              "      <td>-1.497504</td>\n",
              "      <td>0.086307</td>\n",
              "      <td>0.315063</td>\n",
              "      <td>0.148558</td>\n",
              "    </tr>\n",
              "    <tr>\n",
              "      <th>41</th>\n",
              "      <td>-0.010854</td>\n",
              "      <td>-0.158963</td>\n",
              "      <td>-1.034744</td>\n",
              "      <td>-0.322827</td>\n",
              "      <td>-0.434514</td>\n",
              "    </tr>\n",
              "    <tr>\n",
              "      <th>42</th>\n",
              "      <td>-0.022730</td>\n",
              "      <td>-0.992743</td>\n",
              "      <td>-2.034002</td>\n",
              "      <td>0.905387</td>\n",
              "      <td>-0.875089</td>\n",
              "    </tr>\n",
              "    <tr>\n",
              "      <th>43</th>\n",
              "      <td>1.553132</td>\n",
              "      <td>-0.844529</td>\n",
              "      <td>-1.744004</td>\n",
              "      <td>-1.530786</td>\n",
              "      <td>0.861647</td>\n",
              "    </tr>\n",
              "    <tr>\n",
              "      <th>44</th>\n",
              "      <td>-1.839678</td>\n",
              "      <td>0.792404</td>\n",
              "      <td>0.401977</td>\n",
              "      <td>0.077729</td>\n",
              "      <td>0.077683</td>\n",
              "    </tr>\n",
              "    <tr>\n",
              "      <th>45</th>\n",
              "      <td>1.618856</td>\n",
              "      <td>0.687929</td>\n",
              "      <td>-0.558821</td>\n",
              "      <td>0.467097</td>\n",
              "      <td>-1.049343</td>\n",
              "    </tr>\n",
              "    <tr>\n",
              "      <th>46</th>\n",
              "      <td>-0.111890</td>\n",
              "      <td>-1.146324</td>\n",
              "      <td>-0.081450</td>\n",
              "      <td>-1.317411</td>\n",
              "      <td>1.107278</td>\n",
              "    </tr>\n",
              "    <tr>\n",
              "      <th>47</th>\n",
              "      <td>0.336494</td>\n",
              "      <td>0.728098</td>\n",
              "      <td>0.060432</td>\n",
              "      <td>0.532134</td>\n",
              "      <td>-0.103320</td>\n",
              "    </tr>\n",
              "    <tr>\n",
              "      <th>48</th>\n",
              "      <td>-0.617529</td>\n",
              "      <td>-0.103531</td>\n",
              "      <td>0.583720</td>\n",
              "      <td>0.277116</td>\n",
              "      <td>1.006325</td>\n",
              "    </tr>\n",
              "    <tr>\n",
              "      <th>49</th>\n",
              "      <td>1.532353</td>\n",
              "      <td>0.971225</td>\n",
              "      <td>-0.774315</td>\n",
              "      <td>-0.828689</td>\n",
              "      <td>0.416177</td>\n",
              "    </tr>\n",
              "  </tbody>\n",
              "</table>\n",
              "</div>"
            ],
            "text/plain": [
              "           A         B         C         D         E\n",
              "0   0.032353 -1.070593  0.945246 -0.462425 -1.183282\n",
              "1  -1.087732  0.456776 -0.549742  1.700915 -0.200272\n",
              "2  -0.836414  1.322387  0.550990 -1.376769 -0.641720\n",
              "3   0.092436 -0.853956  1.264190  0.045295 -2.044784\n",
              "4  -1.598927  1.372231  0.056886  0.139024 -0.390342\n",
              "5   1.447416  0.449010 -1.288414 -1.512913  0.836691\n",
              "6   0.080510 -0.628742 -0.337987  1.017588 -0.620423\n",
              "7   0.755417  0.091625 -1.237861  0.201496  0.886656\n",
              "8  -0.620610 -1.039439  0.107981  0.956828 -1.098106\n",
              "9   0.774282  0.719040 -0.383594 -0.033178 -1.167583\n",
              "10 -1.056832 -0.806996 -0.797999 -0.689370  1.818505\n",
              "11  0.402857 -1.024453  1.106094  0.583068 -0.522028\n",
              "12 -0.844359  0.459079  1.791564 -1.316205  0.117463\n",
              "13 -0.331825  0.065426  0.450995  0.972527 -0.133967\n",
              "14  0.198899  0.094995 -0.050635 -0.059931 -1.218543\n",
              "15  0.313419 -0.754257  0.019136 -0.300238  0.346484\n",
              "16  2.544578  1.271150  0.117790  0.025582 -0.556587\n",
              "17 -1.644783 -0.233935  1.545229  0.711808 -0.589454\n",
              "18  0.197262  1.219337 -0.686335  0.938242 -1.824579\n",
              "19 -0.097857 -2.057774  0.438481  0.189060  0.333374\n",
              "20 -0.355064 -0.307994 -1.765616 -0.015930 -0.539048\n",
              "21  0.036904  0.101496  0.080242 -1.536130 -0.973824\n",
              "22 -0.913211 -1.219121 -0.335788 -0.061898 -0.015242\n",
              "23 -0.489682 -0.531084  0.268729 -0.274276 -0.673159\n",
              "24  1.929019 -0.769439  1.295043 -0.726481  2.154972\n",
              "25 -1.058239 -1.121243 -1.865275 -2.607403 -0.014348\n",
              "26  0.294534 -1.166544 -0.045432 -0.924323  0.378055\n",
              "27  0.447631 -0.738319  0.363146 -0.372973  0.880581\n",
              "28 -0.014991  0.144201 -0.448584  0.950492  1.329338\n",
              "29 -1.835320  0.165323 -0.121961 -0.047642  0.148089\n",
              "30  0.373162  0.089632 -1.845269  0.943291 -1.073378\n",
              "31 -1.533609  0.451673  0.593132 -0.918439 -1.904664\n",
              "32  0.106973  1.172178  0.314178 -0.740213  0.526591\n",
              "33 -0.572655  1.142943  0.241711 -1.567570 -1.423687\n",
              "34 -0.188707  1.630247 -0.019873 -1.439545 -0.288955\n",
              "35  0.053282  1.513208 -1.258204 -0.382111  1.234565\n",
              "36 -1.219405  0.328593 -1.077563  2.923573 -0.123740\n",
              "37  1.126392  0.503016 -0.356368 -0.666654 -0.005793\n",
              "38 -1.027047  1.060804 -0.060259 -0.521057 -0.816770\n",
              "39  0.670031 -1.359038  1.322598 -0.278641 -0.206947\n",
              "40  1.030493 -1.497504  0.086307  0.315063  0.148558\n",
              "41 -0.010854 -0.158963 -1.034744 -0.322827 -0.434514\n",
              "42 -0.022730 -0.992743 -2.034002  0.905387 -0.875089\n",
              "43  1.553132 -0.844529 -1.744004 -1.530786  0.861647\n",
              "44 -1.839678  0.792404  0.401977  0.077729  0.077683\n",
              "45  1.618856  0.687929 -0.558821  0.467097 -1.049343\n",
              "46 -0.111890 -1.146324 -0.081450 -1.317411  1.107278\n",
              "47  0.336494  0.728098  0.060432  0.532134 -0.103320\n",
              "48 -0.617529 -0.103531  0.583720  0.277116  1.006325\n",
              "49  1.532353  0.971225 -0.774315 -0.828689  0.416177"
            ]
          },
          "metadata": {
            "tags": []
          },
          "execution_count": 151
        }
      ]
    },
    {
      "cell_type": "code",
      "metadata": {
        "id": "XVSYpbx6wm4a",
        "colab_type": "code",
        "outputId": "327d8642-99a6-4ead-a341-6da8cf2b2d38",
        "colab": {
          "base_uri": "https://localhost:8080/",
          "height": 187
        }
      },
      "source": [
        "df.info()\n",
        "# df.insert(np.random.randn(np.nan))"
      ],
      "execution_count": 0,
      "outputs": [
        {
          "output_type": "stream",
          "text": [
            "<class 'pandas.core.frame.DataFrame'>\n",
            "RangeIndex: 50 entries, 0 to 49\n",
            "Data columns (total 5 columns):\n",
            "A    50 non-null float64\n",
            "B    50 non-null float64\n",
            "C    50 non-null float64\n",
            "D    50 non-null float64\n",
            "E    50 non-null float64\n",
            "dtypes: float64(5)\n",
            "memory usage: 2.0 KB\n"
          ],
          "name": "stdout"
        }
      ]
    },
    {
      "cell_type": "code",
      "metadata": {
        "id": "1lGx66B4wuwF",
        "colab_type": "code",
        "outputId": "671e7d66-584b-4195-b9ef-c874e3be5771",
        "colab": {
          "base_uri": "https://localhost:8080/",
          "height": 204
        }
      },
      "source": [
        "# df[['0','1','2']]\n",
        "# df.index\n",
        "df.iloc[0:5,:]"
      ],
      "execution_count": 0,
      "outputs": [
        {
          "output_type": "execute_result",
          "data": {
            "text/html": [
              "<div>\n",
              "<style scoped>\n",
              "    .dataframe tbody tr th:only-of-type {\n",
              "        vertical-align: middle;\n",
              "    }\n",
              "\n",
              "    .dataframe tbody tr th {\n",
              "        vertical-align: top;\n",
              "    }\n",
              "\n",
              "    .dataframe thead th {\n",
              "        text-align: right;\n",
              "    }\n",
              "</style>\n",
              "<table border=\"1\" class=\"dataframe\">\n",
              "  <thead>\n",
              "    <tr style=\"text-align: right;\">\n",
              "      <th></th>\n",
              "      <th>A</th>\n",
              "      <th>B</th>\n",
              "      <th>C</th>\n",
              "      <th>D</th>\n",
              "      <th>E</th>\n",
              "    </tr>\n",
              "  </thead>\n",
              "  <tbody>\n",
              "    <tr>\n",
              "      <th>0</th>\n",
              "      <td>0.032353</td>\n",
              "      <td>-1.070593</td>\n",
              "      <td>0.945246</td>\n",
              "      <td>-0.462425</td>\n",
              "      <td>-1.183282</td>\n",
              "    </tr>\n",
              "    <tr>\n",
              "      <th>1</th>\n",
              "      <td>-1.087732</td>\n",
              "      <td>0.456776</td>\n",
              "      <td>-0.549742</td>\n",
              "      <td>1.700915</td>\n",
              "      <td>-0.200272</td>\n",
              "    </tr>\n",
              "    <tr>\n",
              "      <th>2</th>\n",
              "      <td>-0.836414</td>\n",
              "      <td>1.322387</td>\n",
              "      <td>0.550990</td>\n",
              "      <td>-1.376769</td>\n",
              "      <td>-0.641720</td>\n",
              "    </tr>\n",
              "    <tr>\n",
              "      <th>3</th>\n",
              "      <td>0.092436</td>\n",
              "      <td>-0.853956</td>\n",
              "      <td>1.264190</td>\n",
              "      <td>0.045295</td>\n",
              "      <td>-2.044784</td>\n",
              "    </tr>\n",
              "    <tr>\n",
              "      <th>4</th>\n",
              "      <td>-1.598927</td>\n",
              "      <td>1.372231</td>\n",
              "      <td>0.056886</td>\n",
              "      <td>0.139024</td>\n",
              "      <td>-0.390342</td>\n",
              "    </tr>\n",
              "  </tbody>\n",
              "</table>\n",
              "</div>"
            ],
            "text/plain": [
              "          A         B         C         D         E\n",
              "0  0.032353 -1.070593  0.945246 -0.462425 -1.183282\n",
              "1 -1.087732  0.456776 -0.549742  1.700915 -0.200272\n",
              "2 -0.836414  1.322387  0.550990 -1.376769 -0.641720\n",
              "3  0.092436 -0.853956  1.264190  0.045295 -2.044784\n",
              "4 -1.598927  1.372231  0.056886  0.139024 -0.390342"
            ]
          },
          "metadata": {
            "tags": []
          },
          "execution_count": 169
        }
      ]
    },
    {
      "cell_type": "code",
      "metadata": {
        "id": "vVulFTdJ1UhJ",
        "colab_type": "code",
        "outputId": "6d66f6eb-9db2-4d3a-fa2d-4b428278947c",
        "colab": {
          "base_uri": "https://localhost:8080/",
          "height": 119
        }
      },
      "source": [
        "# df.iloc[:5,:] # the first 5 rows, and all of the columns for those rows.\n",
        "# df.iloc[:,:] # the entire DataFrame.\n",
        "# df.iloc[5:,5:] # rows from position 5 onwards, and columns from position 5 onwards.\n",
        "# df.iloc[:,0] # the first column, and all of the rows for the column.\n",
        "df.iloc[9,:] #the 10th row, and all of the columns for that row."
      ],
      "execution_count": 0,
      "outputs": [
        {
          "output_type": "execute_result",
          "data": {
            "text/plain": [
              "A    0.774282\n",
              "B    0.719040\n",
              "C   -0.383594\n",
              "D   -0.033178\n",
              "E   -1.167583\n",
              "Name: 9, dtype: float64"
            ]
          },
          "metadata": {
            "tags": []
          },
          "execution_count": 173
        }
      ]
    },
    {
      "cell_type": "code",
      "metadata": {
        "id": "dYyJMkaG2tKI",
        "colab_type": "code",
        "outputId": "f80475c0-5c6a-402c-e061-aaab9e3cc614",
        "colab": {
          "base_uri": "https://localhost:8080/",
          "height": 204
        }
      },
      "source": [
        "df.corr()"
      ],
      "execution_count": 0,
      "outputs": [
        {
          "output_type": "execute_result",
          "data": {
            "text/html": [
              "<div>\n",
              "<style scoped>\n",
              "    .dataframe tbody tr th:only-of-type {\n",
              "        vertical-align: middle;\n",
              "    }\n",
              "\n",
              "    .dataframe tbody tr th {\n",
              "        vertical-align: top;\n",
              "    }\n",
              "\n",
              "    .dataframe thead th {\n",
              "        text-align: right;\n",
              "    }\n",
              "</style>\n",
              "<table border=\"1\" class=\"dataframe\">\n",
              "  <thead>\n",
              "    <tr style=\"text-align: right;\">\n",
              "      <th></th>\n",
              "      <th>A</th>\n",
              "      <th>B</th>\n",
              "      <th>C</th>\n",
              "      <th>D</th>\n",
              "      <th>E</th>\n",
              "    </tr>\n",
              "  </thead>\n",
              "  <tbody>\n",
              "    <tr>\n",
              "      <th>A</th>\n",
              "      <td>1.000000</td>\n",
              "      <td>-0.055248</td>\n",
              "      <td>-0.135086</td>\n",
              "      <td>-0.118542</td>\n",
              "      <td>0.177421</td>\n",
              "    </tr>\n",
              "    <tr>\n",
              "      <th>B</th>\n",
              "      <td>-0.055248</td>\n",
              "      <td>1.000000</td>\n",
              "      <td>-0.081130</td>\n",
              "      <td>-0.037653</td>\n",
              "      <td>-0.171634</td>\n",
              "    </tr>\n",
              "    <tr>\n",
              "      <th>C</th>\n",
              "      <td>-0.135086</td>\n",
              "      <td>-0.081130</td>\n",
              "      <td>1.000000</td>\n",
              "      <td>-0.052803</td>\n",
              "      <td>-0.103737</td>\n",
              "    </tr>\n",
              "    <tr>\n",
              "      <th>D</th>\n",
              "      <td>-0.118542</td>\n",
              "      <td>-0.037653</td>\n",
              "      <td>-0.052803</td>\n",
              "      <td>1.000000</td>\n",
              "      <td>-0.170425</td>\n",
              "    </tr>\n",
              "    <tr>\n",
              "      <th>E</th>\n",
              "      <td>0.177421</td>\n",
              "      <td>-0.171634</td>\n",
              "      <td>-0.103737</td>\n",
              "      <td>-0.170425</td>\n",
              "      <td>1.000000</td>\n",
              "    </tr>\n",
              "  </tbody>\n",
              "</table>\n",
              "</div>"
            ],
            "text/plain": [
              "          A         B         C         D         E\n",
              "A  1.000000 -0.055248 -0.135086 -0.118542  0.177421\n",
              "B -0.055248  1.000000 -0.081130 -0.037653 -0.171634\n",
              "C -0.135086 -0.081130  1.000000 -0.052803 -0.103737\n",
              "D -0.118542 -0.037653 -0.052803  1.000000 -0.170425\n",
              "E  0.177421 -0.171634 -0.103737 -0.170425  1.000000"
            ]
          },
          "metadata": {
            "tags": []
          },
          "execution_count": 174
        }
      ]
    },
    {
      "cell_type": "code",
      "metadata": {
        "id": "iFml8joe3hUv",
        "colab_type": "code",
        "colab": {}
      },
      "source": [
        "# https://www.dataquest.io/blog/pandas-python-tutorial/\n",
        "# https://s3.amazonaws.com/dq-blog-files/pandas-cheat-sheet.pdf\n",
        "# https://www.dataquest.io/blog/pandas-cheat-sheet/\n",
        "# https://s3.amazonaws.com/dq-blog-files/numpy-cheat-sheet.pdf"
      ],
      "execution_count": 0,
      "outputs": []
    }
  ]
}